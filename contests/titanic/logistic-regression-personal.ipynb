{
 "cells": [
  {
   "cell_type": "code",
   "execution_count": 1,
   "metadata": {
    "_cell_guid": "b1076dfc-b9ad-4769-8c92-a6c4dae69d19",
    "_uuid": "8f2839f25d086af736a60e9eeb907d3b93b6e0e5",
    "execution": {
     "iopub.execute_input": "2021-06-27T08:56:45.558388Z",
     "iopub.status.busy": "2021-06-27T08:56:45.557664Z",
     "iopub.status.idle": "2021-06-27T08:56:45.563153Z",
     "shell.execute_reply": "2021-06-27T08:56:45.564112Z",
     "shell.execute_reply.started": "2021-06-27T08:45:05.043133Z"
    },
    "papermill": {
     "duration": 0.060333,
     "end_time": "2021-06-27T08:56:45.564326",
     "exception": false,
     "start_time": "2021-06-27T08:56:45.503993",
     "status": "completed"
    },
    "tags": []
   },
   "outputs": [
    {
     "name": "stdout",
     "output_type": "stream",
     "text": [
      "/kaggle/input/titanic/train.csv\n",
      "/kaggle/input/titanic/test.csv\n",
      "/kaggle/input/titanic/gender_submission.csv\n"
     ]
    }
   ],
   "source": [
    "# This Python 3 environment comes with many helpful analytics libraries installed\n",
    "# It is defined by the kaggle/python Docker image: https://github.com/kaggle/docker-python\n",
    "# For example, here's several helpful packages to load\n",
    "\n",
    "import numpy as np # linear algebra\n",
    "import pandas as pd # data processing, CSV file I/O (e.g. pd.read_csv)\n",
    "\n",
    "# Input data files are available in the read-only \"../input/\" directory\n",
    "# For example, running this (by clicking run or pressing Shift+Enter) will list all files under the input directory\n",
    "\n",
    "import os\n",
    "for dirname, _, filenames in os.walk('/kaggle/input'):\n",
    "    for filename in filenames:\n",
    "        print(os.path.join(dirname, filename))\n",
    "\n",
    "# You can write up to 5GB to the current directory (/kaggle/working/) that gets preserved as output when you create a version using \"Save & Run All\" \n",
    "# You can also write temporary files to /kaggle/temp/, but they won't be saved outside of the current session"
   ]
  },
  {
   "cell_type": "code",
   "execution_count": 2,
   "metadata": {
    "_cell_guid": "79c7e3d0-c299-4dcb-8224-4455121ee9b0",
    "_uuid": "d629ff2d2480ee46fbb7e2d37f6b5fab8052498a",
    "execution": {
     "iopub.execute_input": "2021-06-27T08:56:45.664877Z",
     "iopub.status.busy": "2021-06-27T08:56:45.663754Z",
     "iopub.status.idle": "2021-06-27T08:56:46.933437Z",
     "shell.execute_reply": "2021-06-27T08:56:46.933939Z",
     "shell.execute_reply.started": "2021-06-27T08:45:05.343878Z"
    },
    "papermill": {
     "duration": 1.321205,
     "end_time": "2021-06-27T08:56:46.934134",
     "exception": false,
     "start_time": "2021-06-27T08:56:45.612929",
     "status": "completed"
    },
    "tags": []
   },
   "outputs": [],
   "source": [
    "import pandas as pd\n",
    "import seaborn as sns\n",
    "from sklearn.compose import ColumnTransformer \n",
    "from sklearn.model_selection import train_test_split\n",
    "from sklearn.linear_model import LogisticRegression\n",
    "from sklearn.metrics import accuracy_score"
   ]
  },
  {
   "cell_type": "code",
   "execution_count": 3,
   "metadata": {
    "execution": {
     "iopub.execute_input": "2021-06-27T08:56:47.033976Z",
     "iopub.status.busy": "2021-06-27T08:56:47.032892Z",
     "iopub.status.idle": "2021-06-27T08:56:47.065423Z",
     "shell.execute_reply": "2021-06-27T08:56:47.064623Z",
     "shell.execute_reply.started": "2021-06-27T08:45:05.488890Z"
    },
    "papermill": {
     "duration": 0.081964,
     "end_time": "2021-06-27T08:56:47.065572",
     "exception": false,
     "start_time": "2021-06-27T08:56:46.983608",
     "status": "completed"
    },
    "tags": []
   },
   "outputs": [],
   "source": [
    "## Training set\n",
    "train = pd.read_csv(\"/kaggle/input/titanic/train.csv\") \n",
    "\n",
    "## Test set\n",
    "test  = pd.read_csv(\"/kaggle/input/titanic/test.csv\") "
   ]
  },
  {
   "cell_type": "markdown",
   "metadata": {
    "papermill": {
     "duration": 0.046679,
     "end_time": "2021-06-27T08:56:47.158937",
     "exception": false,
     "start_time": "2021-06-27T08:56:47.112258",
     "status": "completed"
    },
    "tags": []
   },
   "source": [
    "## Exploratory Data Analysis"
   ]
  },
  {
   "cell_type": "code",
   "execution_count": 4,
   "metadata": {
    "execution": {
     "iopub.execute_input": "2021-06-27T08:56:47.258507Z",
     "iopub.status.busy": "2021-06-27T08:56:47.257775Z",
     "iopub.status.idle": "2021-06-27T08:56:47.300205Z",
     "shell.execute_reply": "2021-06-27T08:56:47.300736Z",
     "shell.execute_reply.started": "2021-06-27T08:45:05.843962Z"
    },
    "papermill": {
     "duration": 0.095552,
     "end_time": "2021-06-27T08:56:47.300888",
     "exception": false,
     "start_time": "2021-06-27T08:56:47.205336",
     "status": "completed"
    },
    "tags": []
   },
   "outputs": [
    {
     "data": {
      "text/html": [
       "<div>\n",
       "<style scoped>\n",
       "    .dataframe tbody tr th:only-of-type {\n",
       "        vertical-align: middle;\n",
       "    }\n",
       "\n",
       "    .dataframe tbody tr th {\n",
       "        vertical-align: top;\n",
       "    }\n",
       "\n",
       "    .dataframe thead th {\n",
       "        text-align: right;\n",
       "    }\n",
       "</style>\n",
       "<table border=\"1\" class=\"dataframe\">\n",
       "  <thead>\n",
       "    <tr style=\"text-align: right;\">\n",
       "      <th></th>\n",
       "      <th>PassengerId</th>\n",
       "      <th>Survived</th>\n",
       "      <th>Pclass</th>\n",
       "      <th>Age</th>\n",
       "      <th>SibSp</th>\n",
       "      <th>Parch</th>\n",
       "      <th>Fare</th>\n",
       "    </tr>\n",
       "  </thead>\n",
       "  <tbody>\n",
       "    <tr>\n",
       "      <th>count</th>\n",
       "      <td>891.000000</td>\n",
       "      <td>891.000000</td>\n",
       "      <td>891.000000</td>\n",
       "      <td>714.000000</td>\n",
       "      <td>891.000000</td>\n",
       "      <td>891.000000</td>\n",
       "      <td>891.000000</td>\n",
       "    </tr>\n",
       "    <tr>\n",
       "      <th>mean</th>\n",
       "      <td>446.000000</td>\n",
       "      <td>0.383838</td>\n",
       "      <td>2.308642</td>\n",
       "      <td>29.699118</td>\n",
       "      <td>0.523008</td>\n",
       "      <td>0.381594</td>\n",
       "      <td>32.204208</td>\n",
       "    </tr>\n",
       "    <tr>\n",
       "      <th>std</th>\n",
       "      <td>257.353842</td>\n",
       "      <td>0.486592</td>\n",
       "      <td>0.836071</td>\n",
       "      <td>14.526497</td>\n",
       "      <td>1.102743</td>\n",
       "      <td>0.806057</td>\n",
       "      <td>49.693429</td>\n",
       "    </tr>\n",
       "    <tr>\n",
       "      <th>min</th>\n",
       "      <td>1.000000</td>\n",
       "      <td>0.000000</td>\n",
       "      <td>1.000000</td>\n",
       "      <td>0.420000</td>\n",
       "      <td>0.000000</td>\n",
       "      <td>0.000000</td>\n",
       "      <td>0.000000</td>\n",
       "    </tr>\n",
       "    <tr>\n",
       "      <th>25%</th>\n",
       "      <td>223.500000</td>\n",
       "      <td>0.000000</td>\n",
       "      <td>2.000000</td>\n",
       "      <td>20.125000</td>\n",
       "      <td>0.000000</td>\n",
       "      <td>0.000000</td>\n",
       "      <td>7.910400</td>\n",
       "    </tr>\n",
       "    <tr>\n",
       "      <th>50%</th>\n",
       "      <td>446.000000</td>\n",
       "      <td>0.000000</td>\n",
       "      <td>3.000000</td>\n",
       "      <td>28.000000</td>\n",
       "      <td>0.000000</td>\n",
       "      <td>0.000000</td>\n",
       "      <td>14.454200</td>\n",
       "    </tr>\n",
       "    <tr>\n",
       "      <th>75%</th>\n",
       "      <td>668.500000</td>\n",
       "      <td>1.000000</td>\n",
       "      <td>3.000000</td>\n",
       "      <td>38.000000</td>\n",
       "      <td>1.000000</td>\n",
       "      <td>0.000000</td>\n",
       "      <td>31.000000</td>\n",
       "    </tr>\n",
       "    <tr>\n",
       "      <th>max</th>\n",
       "      <td>891.000000</td>\n",
       "      <td>1.000000</td>\n",
       "      <td>3.000000</td>\n",
       "      <td>80.000000</td>\n",
       "      <td>8.000000</td>\n",
       "      <td>6.000000</td>\n",
       "      <td>512.329200</td>\n",
       "    </tr>\n",
       "  </tbody>\n",
       "</table>\n",
       "</div>"
      ],
      "text/plain": [
       "       PassengerId    Survived      Pclass         Age       SibSp  \\\n",
       "count   891.000000  891.000000  891.000000  714.000000  891.000000   \n",
       "mean    446.000000    0.383838    2.308642   29.699118    0.523008   \n",
       "std     257.353842    0.486592    0.836071   14.526497    1.102743   \n",
       "min       1.000000    0.000000    1.000000    0.420000    0.000000   \n",
       "25%     223.500000    0.000000    2.000000   20.125000    0.000000   \n",
       "50%     446.000000    0.000000    3.000000   28.000000    0.000000   \n",
       "75%     668.500000    1.000000    3.000000   38.000000    1.000000   \n",
       "max     891.000000    1.000000    3.000000   80.000000    8.000000   \n",
       "\n",
       "            Parch        Fare  \n",
       "count  891.000000  891.000000  \n",
       "mean     0.381594   32.204208  \n",
       "std      0.806057   49.693429  \n",
       "min      0.000000    0.000000  \n",
       "25%      0.000000    7.910400  \n",
       "50%      0.000000   14.454200  \n",
       "75%      0.000000   31.000000  \n",
       "max      6.000000  512.329200  "
      ]
     },
     "execution_count": 4,
     "metadata": {},
     "output_type": "execute_result"
    }
   ],
   "source": [
    "train.describe()"
   ]
  },
  {
   "cell_type": "code",
   "execution_count": 5,
   "metadata": {
    "execution": {
     "iopub.execute_input": "2021-06-27T08:56:47.397908Z",
     "iopub.status.busy": "2021-06-27T08:56:47.397268Z",
     "iopub.status.idle": "2021-06-27T08:56:47.412874Z",
     "shell.execute_reply": "2021-06-27T08:56:47.413441Z",
     "shell.execute_reply.started": "2021-06-27T08:45:05.939757Z"
    },
    "papermill": {
     "duration": 0.066032,
     "end_time": "2021-06-27T08:56:47.413595",
     "exception": false,
     "start_time": "2021-06-27T08:56:47.347563",
     "status": "completed"
    },
    "tags": []
   },
   "outputs": [
    {
     "data": {
      "text/html": [
       "<div>\n",
       "<style scoped>\n",
       "    .dataframe tbody tr th:only-of-type {\n",
       "        vertical-align: middle;\n",
       "    }\n",
       "\n",
       "    .dataframe tbody tr th {\n",
       "        vertical-align: top;\n",
       "    }\n",
       "\n",
       "    .dataframe thead th {\n",
       "        text-align: right;\n",
       "    }\n",
       "</style>\n",
       "<table border=\"1\" class=\"dataframe\">\n",
       "  <thead>\n",
       "    <tr style=\"text-align: right;\">\n",
       "      <th></th>\n",
       "      <th>0</th>\n",
       "      <th>1</th>\n",
       "      <th>2</th>\n",
       "      <th>3</th>\n",
       "      <th>4</th>\n",
       "    </tr>\n",
       "  </thead>\n",
       "  <tbody>\n",
       "    <tr>\n",
       "      <th>PassengerId</th>\n",
       "      <td>1</td>\n",
       "      <td>2</td>\n",
       "      <td>3</td>\n",
       "      <td>4</td>\n",
       "      <td>5</td>\n",
       "    </tr>\n",
       "    <tr>\n",
       "      <th>Survived</th>\n",
       "      <td>0</td>\n",
       "      <td>1</td>\n",
       "      <td>1</td>\n",
       "      <td>1</td>\n",
       "      <td>0</td>\n",
       "    </tr>\n",
       "    <tr>\n",
       "      <th>Pclass</th>\n",
       "      <td>3</td>\n",
       "      <td>1</td>\n",
       "      <td>3</td>\n",
       "      <td>1</td>\n",
       "      <td>3</td>\n",
       "    </tr>\n",
       "    <tr>\n",
       "      <th>Name</th>\n",
       "      <td>Braund, Mr. Owen Harris</td>\n",
       "      <td>Cumings, Mrs. John Bradley (Florence Briggs Th...</td>\n",
       "      <td>Heikkinen, Miss. Laina</td>\n",
       "      <td>Futrelle, Mrs. Jacques Heath (Lily May Peel)</td>\n",
       "      <td>Allen, Mr. William Henry</td>\n",
       "    </tr>\n",
       "    <tr>\n",
       "      <th>Sex</th>\n",
       "      <td>male</td>\n",
       "      <td>female</td>\n",
       "      <td>female</td>\n",
       "      <td>female</td>\n",
       "      <td>male</td>\n",
       "    </tr>\n",
       "    <tr>\n",
       "      <th>Age</th>\n",
       "      <td>22</td>\n",
       "      <td>38</td>\n",
       "      <td>26</td>\n",
       "      <td>35</td>\n",
       "      <td>35</td>\n",
       "    </tr>\n",
       "    <tr>\n",
       "      <th>SibSp</th>\n",
       "      <td>1</td>\n",
       "      <td>1</td>\n",
       "      <td>0</td>\n",
       "      <td>1</td>\n",
       "      <td>0</td>\n",
       "    </tr>\n",
       "    <tr>\n",
       "      <th>Parch</th>\n",
       "      <td>0</td>\n",
       "      <td>0</td>\n",
       "      <td>0</td>\n",
       "      <td>0</td>\n",
       "      <td>0</td>\n",
       "    </tr>\n",
       "    <tr>\n",
       "      <th>Ticket</th>\n",
       "      <td>A/5 21171</td>\n",
       "      <td>PC 17599</td>\n",
       "      <td>STON/O2. 3101282</td>\n",
       "      <td>113803</td>\n",
       "      <td>373450</td>\n",
       "    </tr>\n",
       "    <tr>\n",
       "      <th>Fare</th>\n",
       "      <td>7.25</td>\n",
       "      <td>71.2833</td>\n",
       "      <td>7.925</td>\n",
       "      <td>53.1</td>\n",
       "      <td>8.05</td>\n",
       "    </tr>\n",
       "    <tr>\n",
       "      <th>Cabin</th>\n",
       "      <td>NaN</td>\n",
       "      <td>C85</td>\n",
       "      <td>NaN</td>\n",
       "      <td>C123</td>\n",
       "      <td>NaN</td>\n",
       "    </tr>\n",
       "    <tr>\n",
       "      <th>Embarked</th>\n",
       "      <td>S</td>\n",
       "      <td>C</td>\n",
       "      <td>S</td>\n",
       "      <td>S</td>\n",
       "      <td>S</td>\n",
       "    </tr>\n",
       "  </tbody>\n",
       "</table>\n",
       "</div>"
      ],
      "text/plain": [
       "                                   0  \\\n",
       "PassengerId                        1   \n",
       "Survived                           0   \n",
       "Pclass                             3   \n",
       "Name         Braund, Mr. Owen Harris   \n",
       "Sex                             male   \n",
       "Age                               22   \n",
       "SibSp                              1   \n",
       "Parch                              0   \n",
       "Ticket                     A/5 21171   \n",
       "Fare                            7.25   \n",
       "Cabin                            NaN   \n",
       "Embarked                           S   \n",
       "\n",
       "                                                             1  \\\n",
       "PassengerId                                                  2   \n",
       "Survived                                                     1   \n",
       "Pclass                                                       1   \n",
       "Name         Cumings, Mrs. John Bradley (Florence Briggs Th...   \n",
       "Sex                                                     female   \n",
       "Age                                                         38   \n",
       "SibSp                                                        1   \n",
       "Parch                                                        0   \n",
       "Ticket                                                PC 17599   \n",
       "Fare                                                   71.2833   \n",
       "Cabin                                                      C85   \n",
       "Embarked                                                     C   \n",
       "\n",
       "                                  2  \\\n",
       "PassengerId                       3   \n",
       "Survived                          1   \n",
       "Pclass                            3   \n",
       "Name         Heikkinen, Miss. Laina   \n",
       "Sex                          female   \n",
       "Age                              26   \n",
       "SibSp                             0   \n",
       "Parch                             0   \n",
       "Ticket             STON/O2. 3101282   \n",
       "Fare                          7.925   \n",
       "Cabin                           NaN   \n",
       "Embarked                          S   \n",
       "\n",
       "                                                        3  \\\n",
       "PassengerId                                             4   \n",
       "Survived                                                1   \n",
       "Pclass                                                  1   \n",
       "Name         Futrelle, Mrs. Jacques Heath (Lily May Peel)   \n",
       "Sex                                                female   \n",
       "Age                                                    35   \n",
       "SibSp                                                   1   \n",
       "Parch                                                   0   \n",
       "Ticket                                             113803   \n",
       "Fare                                                 53.1   \n",
       "Cabin                                                C123   \n",
       "Embarked                                                S   \n",
       "\n",
       "                                    4  \n",
       "PassengerId                         5  \n",
       "Survived                            0  \n",
       "Pclass                              3  \n",
       "Name         Allen, Mr. William Henry  \n",
       "Sex                              male  \n",
       "Age                                35  \n",
       "SibSp                               0  \n",
       "Parch                               0  \n",
       "Ticket                         373450  \n",
       "Fare                             8.05  \n",
       "Cabin                             NaN  \n",
       "Embarked                            S  "
      ]
     },
     "execution_count": 5,
     "metadata": {},
     "output_type": "execute_result"
    }
   ],
   "source": [
    "train.head().T"
   ]
  },
  {
   "cell_type": "code",
   "execution_count": 6,
   "metadata": {
    "execution": {
     "iopub.execute_input": "2021-06-27T08:56:47.512598Z",
     "iopub.status.busy": "2021-06-27T08:56:47.511895Z",
     "iopub.status.idle": "2021-06-27T08:56:47.527566Z",
     "shell.execute_reply": "2021-06-27T08:56:47.528167Z",
     "shell.execute_reply.started": "2021-06-27T08:45:06.061496Z"
    },
    "papermill": {
     "duration": 0.06711,
     "end_time": "2021-06-27T08:56:47.528331",
     "exception": false,
     "start_time": "2021-06-27T08:56:47.461221",
     "status": "completed"
    },
    "tags": []
   },
   "outputs": [
    {
     "data": {
      "text/html": [
       "<div>\n",
       "<style scoped>\n",
       "    .dataframe tbody tr th:only-of-type {\n",
       "        vertical-align: middle;\n",
       "    }\n",
       "\n",
       "    .dataframe tbody tr th {\n",
       "        vertical-align: top;\n",
       "    }\n",
       "\n",
       "    .dataframe thead th {\n",
       "        text-align: right;\n",
       "    }\n",
       "</style>\n",
       "<table border=\"1\" class=\"dataframe\">\n",
       "  <thead>\n",
       "    <tr style=\"text-align: right;\">\n",
       "      <th></th>\n",
       "      <th>0</th>\n",
       "      <th>1</th>\n",
       "      <th>2</th>\n",
       "      <th>3</th>\n",
       "      <th>4</th>\n",
       "    </tr>\n",
       "  </thead>\n",
       "  <tbody>\n",
       "    <tr>\n",
       "      <th>PassengerId</th>\n",
       "      <td>892</td>\n",
       "      <td>893</td>\n",
       "      <td>894</td>\n",
       "      <td>895</td>\n",
       "      <td>896</td>\n",
       "    </tr>\n",
       "    <tr>\n",
       "      <th>Pclass</th>\n",
       "      <td>3</td>\n",
       "      <td>3</td>\n",
       "      <td>2</td>\n",
       "      <td>3</td>\n",
       "      <td>3</td>\n",
       "    </tr>\n",
       "    <tr>\n",
       "      <th>Name</th>\n",
       "      <td>Kelly, Mr. James</td>\n",
       "      <td>Wilkes, Mrs. James (Ellen Needs)</td>\n",
       "      <td>Myles, Mr. Thomas Francis</td>\n",
       "      <td>Wirz, Mr. Albert</td>\n",
       "      <td>Hirvonen, Mrs. Alexander (Helga E Lindqvist)</td>\n",
       "    </tr>\n",
       "    <tr>\n",
       "      <th>Sex</th>\n",
       "      <td>male</td>\n",
       "      <td>female</td>\n",
       "      <td>male</td>\n",
       "      <td>male</td>\n",
       "      <td>female</td>\n",
       "    </tr>\n",
       "    <tr>\n",
       "      <th>Age</th>\n",
       "      <td>34.5</td>\n",
       "      <td>47</td>\n",
       "      <td>62</td>\n",
       "      <td>27</td>\n",
       "      <td>22</td>\n",
       "    </tr>\n",
       "    <tr>\n",
       "      <th>SibSp</th>\n",
       "      <td>0</td>\n",
       "      <td>1</td>\n",
       "      <td>0</td>\n",
       "      <td>0</td>\n",
       "      <td>1</td>\n",
       "    </tr>\n",
       "    <tr>\n",
       "      <th>Parch</th>\n",
       "      <td>0</td>\n",
       "      <td>0</td>\n",
       "      <td>0</td>\n",
       "      <td>0</td>\n",
       "      <td>1</td>\n",
       "    </tr>\n",
       "    <tr>\n",
       "      <th>Ticket</th>\n",
       "      <td>330911</td>\n",
       "      <td>363272</td>\n",
       "      <td>240276</td>\n",
       "      <td>315154</td>\n",
       "      <td>3101298</td>\n",
       "    </tr>\n",
       "    <tr>\n",
       "      <th>Fare</th>\n",
       "      <td>7.8292</td>\n",
       "      <td>7</td>\n",
       "      <td>9.6875</td>\n",
       "      <td>8.6625</td>\n",
       "      <td>12.2875</td>\n",
       "    </tr>\n",
       "    <tr>\n",
       "      <th>Cabin</th>\n",
       "      <td>NaN</td>\n",
       "      <td>NaN</td>\n",
       "      <td>NaN</td>\n",
       "      <td>NaN</td>\n",
       "      <td>NaN</td>\n",
       "    </tr>\n",
       "    <tr>\n",
       "      <th>Embarked</th>\n",
       "      <td>Q</td>\n",
       "      <td>S</td>\n",
       "      <td>Q</td>\n",
       "      <td>S</td>\n",
       "      <td>S</td>\n",
       "    </tr>\n",
       "  </tbody>\n",
       "</table>\n",
       "</div>"
      ],
      "text/plain": [
       "                            0                                 1  \\\n",
       "PassengerId               892                               893   \n",
       "Pclass                      3                                 3   \n",
       "Name         Kelly, Mr. James  Wilkes, Mrs. James (Ellen Needs)   \n",
       "Sex                      male                            female   \n",
       "Age                      34.5                                47   \n",
       "SibSp                       0                                 1   \n",
       "Parch                       0                                 0   \n",
       "Ticket                 330911                            363272   \n",
       "Fare                   7.8292                                 7   \n",
       "Cabin                     NaN                               NaN   \n",
       "Embarked                    Q                                 S   \n",
       "\n",
       "                                     2                 3  \\\n",
       "PassengerId                        894               895   \n",
       "Pclass                               2                 3   \n",
       "Name         Myles, Mr. Thomas Francis  Wirz, Mr. Albert   \n",
       "Sex                               male              male   \n",
       "Age                                 62                27   \n",
       "SibSp                                0                 0   \n",
       "Parch                                0                 0   \n",
       "Ticket                          240276            315154   \n",
       "Fare                            9.6875            8.6625   \n",
       "Cabin                              NaN               NaN   \n",
       "Embarked                             Q                 S   \n",
       "\n",
       "                                                        4  \n",
       "PassengerId                                           896  \n",
       "Pclass                                                  3  \n",
       "Name         Hirvonen, Mrs. Alexander (Helga E Lindqvist)  \n",
       "Sex                                                female  \n",
       "Age                                                    22  \n",
       "SibSp                                                   1  \n",
       "Parch                                                   1  \n",
       "Ticket                                            3101298  \n",
       "Fare                                              12.2875  \n",
       "Cabin                                                 NaN  \n",
       "Embarked                                                S  "
      ]
     },
     "execution_count": 6,
     "metadata": {},
     "output_type": "execute_result"
    }
   ],
   "source": [
    "test.head().T"
   ]
  },
  {
   "cell_type": "markdown",
   "metadata": {
    "papermill": {
     "duration": 0.047554,
     "end_time": "2021-06-27T08:56:47.624551",
     "exception": false,
     "start_time": "2021-06-27T08:56:47.576997",
     "status": "completed"
    },
    "tags": []
   },
   "source": [
    "### NULL Check"
   ]
  },
  {
   "cell_type": "code",
   "execution_count": 7,
   "metadata": {
    "execution": {
     "iopub.execute_input": "2021-06-27T08:56:47.725509Z",
     "iopub.status.busy": "2021-06-27T08:56:47.724814Z",
     "iopub.status.idle": "2021-06-27T08:56:47.732645Z",
     "shell.execute_reply": "2021-06-27T08:56:47.733290Z",
     "shell.execute_reply.started": "2021-06-27T08:45:06.352155Z"
    },
    "papermill": {
     "duration": 0.060454,
     "end_time": "2021-06-27T08:56:47.733439",
     "exception": false,
     "start_time": "2021-06-27T08:56:47.672985",
     "status": "completed"
    },
    "tags": []
   },
   "outputs": [
    {
     "data": {
      "text/plain": [
       "PassengerId      0\n",
       "Survived         0\n",
       "Pclass           0\n",
       "Name             0\n",
       "Sex              0\n",
       "Age            177\n",
       "SibSp            0\n",
       "Parch            0\n",
       "Ticket           0\n",
       "Fare             0\n",
       "Cabin          687\n",
       "Embarked         2\n",
       "dtype: int64"
      ]
     },
     "execution_count": 7,
     "metadata": {},
     "output_type": "execute_result"
    }
   ],
   "source": [
    "train.isnull().sum()"
   ]
  },
  {
   "cell_type": "code",
   "execution_count": 8,
   "metadata": {
    "execution": {
     "iopub.execute_input": "2021-06-27T08:56:47.841365Z",
     "iopub.status.busy": "2021-06-27T08:56:47.840577Z",
     "iopub.status.idle": "2021-06-27T08:56:47.849952Z",
     "shell.execute_reply": "2021-06-27T08:56:47.849354Z",
     "shell.execute_reply.started": "2021-06-27T08:45:06.461771Z"
    },
    "papermill": {
     "duration": 0.066522,
     "end_time": "2021-06-27T08:56:47.850107",
     "exception": false,
     "start_time": "2021-06-27T08:56:47.783585",
     "status": "completed"
    },
    "tags": []
   },
   "outputs": [
    {
     "data": {
      "text/plain": [
       "10692"
      ]
     },
     "execution_count": 8,
     "metadata": {},
     "output_type": "execute_result"
    }
   ],
   "source": [
    "train.size"
   ]
  },
  {
   "cell_type": "code",
   "execution_count": 9,
   "metadata": {
    "execution": {
     "iopub.execute_input": "2021-06-27T08:56:47.967079Z",
     "iopub.status.busy": "2021-06-27T08:56:47.966381Z",
     "iopub.status.idle": "2021-06-27T08:56:47.969496Z",
     "shell.execute_reply": "2021-06-27T08:56:47.970019Z",
     "shell.execute_reply.started": "2021-06-27T08:45:06.681000Z"
    },
    "papermill": {
     "duration": 0.058685,
     "end_time": "2021-06-27T08:56:47.970184",
     "exception": false,
     "start_time": "2021-06-27T08:56:47.911499",
     "status": "completed"
    },
    "tags": []
   },
   "outputs": [],
   "source": [
    "male_age = train[train['Sex'] == 'male'].Age.mean()"
   ]
  },
  {
   "cell_type": "code",
   "execution_count": 10,
   "metadata": {
    "execution": {
     "iopub.execute_input": "2021-06-27T08:56:48.074512Z",
     "iopub.status.busy": "2021-06-27T08:56:48.073762Z",
     "iopub.status.idle": "2021-06-27T08:56:48.079652Z",
     "shell.execute_reply": "2021-06-27T08:56:48.080216Z",
     "shell.execute_reply.started": "2021-06-27T08:45:06.817057Z"
    },
    "papermill": {
     "duration": 0.058763,
     "end_time": "2021-06-27T08:56:48.080371",
     "exception": false,
     "start_time": "2021-06-27T08:56:48.021608",
     "status": "completed"
    },
    "tags": []
   },
   "outputs": [],
   "source": [
    "female_age = train[train['Sex'] == 'female'].Age.mean()"
   ]
  },
  {
   "cell_type": "code",
   "execution_count": 11,
   "metadata": {
    "execution": {
     "iopub.execute_input": "2021-06-27T08:56:48.206897Z",
     "iopub.status.busy": "2021-06-27T08:56:48.206140Z",
     "iopub.status.idle": "2021-06-27T08:56:48.233233Z",
     "shell.execute_reply": "2021-06-27T08:56:48.232596Z",
     "shell.execute_reply.started": "2021-06-27T08:45:06.991948Z"
    },
    "papermill": {
     "duration": 0.091266,
     "end_time": "2021-06-27T08:56:48.233365",
     "exception": false,
     "start_time": "2021-06-27T08:56:48.142099",
     "status": "completed"
    },
    "tags": []
   },
   "outputs": [
    {
     "data": {
      "text/html": [
       "<div>\n",
       "<style scoped>\n",
       "    .dataframe tbody tr th:only-of-type {\n",
       "        vertical-align: middle;\n",
       "    }\n",
       "\n",
       "    .dataframe tbody tr th {\n",
       "        vertical-align: top;\n",
       "    }\n",
       "\n",
       "    .dataframe thead th {\n",
       "        text-align: right;\n",
       "    }\n",
       "</style>\n",
       "<table border=\"1\" class=\"dataframe\">\n",
       "  <thead>\n",
       "    <tr style=\"text-align: right;\">\n",
       "      <th></th>\n",
       "      <th>PassengerId</th>\n",
       "      <th>Survived</th>\n",
       "      <th>Pclass</th>\n",
       "      <th>Name</th>\n",
       "      <th>Sex</th>\n",
       "      <th>Age</th>\n",
       "      <th>SibSp</th>\n",
       "      <th>Parch</th>\n",
       "      <th>Ticket</th>\n",
       "      <th>Fare</th>\n",
       "      <th>Cabin</th>\n",
       "      <th>Embarked</th>\n",
       "    </tr>\n",
       "  </thead>\n",
       "  <tbody>\n",
       "    <tr>\n",
       "      <th>0</th>\n",
       "      <td>1</td>\n",
       "      <td>0</td>\n",
       "      <td>3</td>\n",
       "      <td>Braund, Mr. Owen Harris</td>\n",
       "      <td>male</td>\n",
       "      <td>22.0</td>\n",
       "      <td>1</td>\n",
       "      <td>0</td>\n",
       "      <td>A/5 21171</td>\n",
       "      <td>7.2500</td>\n",
       "      <td>NaN</td>\n",
       "      <td>S</td>\n",
       "    </tr>\n",
       "    <tr>\n",
       "      <th>1</th>\n",
       "      <td>2</td>\n",
       "      <td>1</td>\n",
       "      <td>1</td>\n",
       "      <td>Cumings, Mrs. John Bradley (Florence Briggs Th...</td>\n",
       "      <td>female</td>\n",
       "      <td>38.0</td>\n",
       "      <td>1</td>\n",
       "      <td>0</td>\n",
       "      <td>PC 17599</td>\n",
       "      <td>71.2833</td>\n",
       "      <td>C85</td>\n",
       "      <td>C</td>\n",
       "    </tr>\n",
       "    <tr>\n",
       "      <th>2</th>\n",
       "      <td>3</td>\n",
       "      <td>1</td>\n",
       "      <td>3</td>\n",
       "      <td>Heikkinen, Miss. Laina</td>\n",
       "      <td>female</td>\n",
       "      <td>26.0</td>\n",
       "      <td>0</td>\n",
       "      <td>0</td>\n",
       "      <td>STON/O2. 3101282</td>\n",
       "      <td>7.9250</td>\n",
       "      <td>NaN</td>\n",
       "      <td>S</td>\n",
       "    </tr>\n",
       "    <tr>\n",
       "      <th>3</th>\n",
       "      <td>4</td>\n",
       "      <td>1</td>\n",
       "      <td>1</td>\n",
       "      <td>Futrelle, Mrs. Jacques Heath (Lily May Peel)</td>\n",
       "      <td>female</td>\n",
       "      <td>35.0</td>\n",
       "      <td>1</td>\n",
       "      <td>0</td>\n",
       "      <td>113803</td>\n",
       "      <td>53.1000</td>\n",
       "      <td>C123</td>\n",
       "      <td>S</td>\n",
       "    </tr>\n",
       "    <tr>\n",
       "      <th>4</th>\n",
       "      <td>5</td>\n",
       "      <td>0</td>\n",
       "      <td>3</td>\n",
       "      <td>Allen, Mr. William Henry</td>\n",
       "      <td>male</td>\n",
       "      <td>35.0</td>\n",
       "      <td>0</td>\n",
       "      <td>0</td>\n",
       "      <td>373450</td>\n",
       "      <td>8.0500</td>\n",
       "      <td>NaN</td>\n",
       "      <td>S</td>\n",
       "    </tr>\n",
       "    <tr>\n",
       "      <th>...</th>\n",
       "      <td>...</td>\n",
       "      <td>...</td>\n",
       "      <td>...</td>\n",
       "      <td>...</td>\n",
       "      <td>...</td>\n",
       "      <td>...</td>\n",
       "      <td>...</td>\n",
       "      <td>...</td>\n",
       "      <td>...</td>\n",
       "      <td>...</td>\n",
       "      <td>...</td>\n",
       "      <td>...</td>\n",
       "    </tr>\n",
       "    <tr>\n",
       "      <th>886</th>\n",
       "      <td>887</td>\n",
       "      <td>0</td>\n",
       "      <td>2</td>\n",
       "      <td>Montvila, Rev. Juozas</td>\n",
       "      <td>male</td>\n",
       "      <td>27.0</td>\n",
       "      <td>0</td>\n",
       "      <td>0</td>\n",
       "      <td>211536</td>\n",
       "      <td>13.0000</td>\n",
       "      <td>NaN</td>\n",
       "      <td>S</td>\n",
       "    </tr>\n",
       "    <tr>\n",
       "      <th>887</th>\n",
       "      <td>888</td>\n",
       "      <td>1</td>\n",
       "      <td>1</td>\n",
       "      <td>Graham, Miss. Margaret Edith</td>\n",
       "      <td>female</td>\n",
       "      <td>19.0</td>\n",
       "      <td>0</td>\n",
       "      <td>0</td>\n",
       "      <td>112053</td>\n",
       "      <td>30.0000</td>\n",
       "      <td>B42</td>\n",
       "      <td>S</td>\n",
       "    </tr>\n",
       "    <tr>\n",
       "      <th>888</th>\n",
       "      <td>889</td>\n",
       "      <td>0</td>\n",
       "      <td>3</td>\n",
       "      <td>Johnston, Miss. Catherine Helen \"Carrie\"</td>\n",
       "      <td>female</td>\n",
       "      <td>NaN</td>\n",
       "      <td>1</td>\n",
       "      <td>2</td>\n",
       "      <td>W./C. 6607</td>\n",
       "      <td>23.4500</td>\n",
       "      <td>NaN</td>\n",
       "      <td>S</td>\n",
       "    </tr>\n",
       "    <tr>\n",
       "      <th>889</th>\n",
       "      <td>890</td>\n",
       "      <td>1</td>\n",
       "      <td>1</td>\n",
       "      <td>Behr, Mr. Karl Howell</td>\n",
       "      <td>male</td>\n",
       "      <td>26.0</td>\n",
       "      <td>0</td>\n",
       "      <td>0</td>\n",
       "      <td>111369</td>\n",
       "      <td>30.0000</td>\n",
       "      <td>C148</td>\n",
       "      <td>C</td>\n",
       "    </tr>\n",
       "    <tr>\n",
       "      <th>890</th>\n",
       "      <td>891</td>\n",
       "      <td>0</td>\n",
       "      <td>3</td>\n",
       "      <td>Dooley, Mr. Patrick</td>\n",
       "      <td>male</td>\n",
       "      <td>32.0</td>\n",
       "      <td>0</td>\n",
       "      <td>0</td>\n",
       "      <td>370376</td>\n",
       "      <td>7.7500</td>\n",
       "      <td>NaN</td>\n",
       "      <td>Q</td>\n",
       "    </tr>\n",
       "  </tbody>\n",
       "</table>\n",
       "<p>891 rows × 12 columns</p>\n",
       "</div>"
      ],
      "text/plain": [
       "     PassengerId  Survived  Pclass  \\\n",
       "0              1         0       3   \n",
       "1              2         1       1   \n",
       "2              3         1       3   \n",
       "3              4         1       1   \n",
       "4              5         0       3   \n",
       "..           ...       ...     ...   \n",
       "886          887         0       2   \n",
       "887          888         1       1   \n",
       "888          889         0       3   \n",
       "889          890         1       1   \n",
       "890          891         0       3   \n",
       "\n",
       "                                                  Name     Sex   Age  SibSp  \\\n",
       "0                              Braund, Mr. Owen Harris    male  22.0      1   \n",
       "1    Cumings, Mrs. John Bradley (Florence Briggs Th...  female  38.0      1   \n",
       "2                               Heikkinen, Miss. Laina  female  26.0      0   \n",
       "3         Futrelle, Mrs. Jacques Heath (Lily May Peel)  female  35.0      1   \n",
       "4                             Allen, Mr. William Henry    male  35.0      0   \n",
       "..                                                 ...     ...   ...    ...   \n",
       "886                              Montvila, Rev. Juozas    male  27.0      0   \n",
       "887                       Graham, Miss. Margaret Edith  female  19.0      0   \n",
       "888           Johnston, Miss. Catherine Helen \"Carrie\"  female   NaN      1   \n",
       "889                              Behr, Mr. Karl Howell    male  26.0      0   \n",
       "890                                Dooley, Mr. Patrick    male  32.0      0   \n",
       "\n",
       "     Parch            Ticket     Fare Cabin Embarked  \n",
       "0        0         A/5 21171   7.2500   NaN        S  \n",
       "1        0          PC 17599  71.2833   C85        C  \n",
       "2        0  STON/O2. 3101282   7.9250   NaN        S  \n",
       "3        0            113803  53.1000  C123        S  \n",
       "4        0            373450   8.0500   NaN        S  \n",
       "..     ...               ...      ...   ...      ...  \n",
       "886      0            211536  13.0000   NaN        S  \n",
       "887      0            112053  30.0000   B42        S  \n",
       "888      2        W./C. 6607  23.4500   NaN        S  \n",
       "889      0            111369  30.0000  C148        C  \n",
       "890      0            370376   7.7500   NaN        Q  \n",
       "\n",
       "[891 rows x 12 columns]"
      ]
     },
     "execution_count": 11,
     "metadata": {},
     "output_type": "execute_result"
    }
   ],
   "source": [
    "train"
   ]
  },
  {
   "cell_type": "code",
   "execution_count": 12,
   "metadata": {
    "execution": {
     "iopub.execute_input": "2021-06-27T08:56:48.345605Z",
     "iopub.status.busy": "2021-06-27T08:56:48.344910Z",
     "iopub.status.idle": "2021-06-27T08:56:48.350654Z",
     "shell.execute_reply": "2021-06-27T08:56:48.350000Z",
     "shell.execute_reply.started": "2021-06-27T08:45:07.063129Z"
    },
    "papermill": {
     "duration": 0.064619,
     "end_time": "2021-06-27T08:56:48.350788",
     "exception": false,
     "start_time": "2021-06-27T08:56:48.286169",
     "status": "completed"
    },
    "tags": []
   },
   "outputs": [],
   "source": [
    "train.loc[train['Sex'] == 'male', 'Age'] = train[train['Sex'] == 'male']['Age'].fillna(male_age)"
   ]
  },
  {
   "cell_type": "code",
   "execution_count": 13,
   "metadata": {
    "execution": {
     "iopub.execute_input": "2021-06-27T08:56:48.473048Z",
     "iopub.status.busy": "2021-06-27T08:56:48.472382Z",
     "iopub.status.idle": "2021-06-27T08:56:48.479894Z",
     "shell.execute_reply": "2021-06-27T08:56:48.480466Z",
     "shell.execute_reply.started": "2021-06-27T08:45:07.230842Z"
    },
    "papermill": {
     "duration": 0.071821,
     "end_time": "2021-06-27T08:56:48.480620",
     "exception": false,
     "start_time": "2021-06-27T08:56:48.408799",
     "status": "completed"
    },
    "tags": []
   },
   "outputs": [],
   "source": [
    "train.loc[train['Sex'] == 'female', 'Age'] = train[train['Sex'] == 'female']['Age'].fillna(female_age)"
   ]
  },
  {
   "cell_type": "code",
   "execution_count": 14,
   "metadata": {
    "execution": {
     "iopub.execute_input": "2021-06-27T08:56:48.584800Z",
     "iopub.status.busy": "2021-06-27T08:56:48.584037Z",
     "iopub.status.idle": "2021-06-27T08:56:48.591468Z",
     "shell.execute_reply": "2021-06-27T08:56:48.592166Z",
     "shell.execute_reply.started": "2021-06-27T08:45:07.389921Z"
    },
    "papermill": {
     "duration": 0.061565,
     "end_time": "2021-06-27T08:56:48.592327",
     "exception": false,
     "start_time": "2021-06-27T08:56:48.530762",
     "status": "completed"
    },
    "tags": []
   },
   "outputs": [],
   "source": [
    "test.loc[test['Sex'] == 'female', 'Age'] = test[test['Sex'] == 'female']['Age'].fillna(female_age)"
   ]
  },
  {
   "cell_type": "code",
   "execution_count": 15,
   "metadata": {
    "execution": {
     "iopub.execute_input": "2021-06-27T08:56:48.695186Z",
     "iopub.status.busy": "2021-06-27T08:56:48.694464Z",
     "iopub.status.idle": "2021-06-27T08:56:48.702501Z",
     "shell.execute_reply": "2021-06-27T08:56:48.701926Z",
     "shell.execute_reply.started": "2021-06-27T08:45:07.581295Z"
    },
    "papermill": {
     "duration": 0.060493,
     "end_time": "2021-06-27T08:56:48.702626",
     "exception": false,
     "start_time": "2021-06-27T08:56:48.642133",
     "status": "completed"
    },
    "tags": []
   },
   "outputs": [],
   "source": [
    "test.loc[test['Sex'] == 'male', 'Age'] = test[test['Sex'] == 'male']['Age'].fillna(male_age)"
   ]
  },
  {
   "cell_type": "code",
   "execution_count": 16,
   "metadata": {
    "execution": {
     "iopub.execute_input": "2021-06-27T08:56:48.812825Z",
     "iopub.status.busy": "2021-06-27T08:56:48.811490Z",
     "iopub.status.idle": "2021-06-27T08:56:48.815402Z",
     "shell.execute_reply": "2021-06-27T08:56:48.814763Z",
     "shell.execute_reply.started": "2021-06-27T08:45:07.724292Z"
    },
    "papermill": {
     "duration": 0.062932,
     "end_time": "2021-06-27T08:56:48.815551",
     "exception": false,
     "start_time": "2021-06-27T08:56:48.752619",
     "status": "completed"
    },
    "tags": []
   },
   "outputs": [],
   "source": [
    "train.drop(['Cabin'], axis=1, inplace=True)"
   ]
  },
  {
   "cell_type": "code",
   "execution_count": 17,
   "metadata": {
    "execution": {
     "iopub.execute_input": "2021-06-27T08:56:48.925390Z",
     "iopub.status.busy": "2021-06-27T08:56:48.924687Z",
     "iopub.status.idle": "2021-06-27T08:56:48.927458Z",
     "shell.execute_reply": "2021-06-27T08:56:48.927989Z",
     "shell.execute_reply.started": "2021-06-27T08:45:07.909625Z"
    },
    "papermill": {
     "duration": 0.061436,
     "end_time": "2021-06-27T08:56:48.928159",
     "exception": false,
     "start_time": "2021-06-27T08:56:48.866723",
     "status": "completed"
    },
    "tags": []
   },
   "outputs": [],
   "source": [
    "test.drop(['Cabin'], axis=1, inplace=True)"
   ]
  },
  {
   "cell_type": "code",
   "execution_count": 18,
   "metadata": {
    "execution": {
     "iopub.execute_input": "2021-06-27T08:56:49.036494Z",
     "iopub.status.busy": "2021-06-27T08:56:49.035481Z",
     "iopub.status.idle": "2021-06-27T08:56:49.060335Z",
     "shell.execute_reply": "2021-06-27T08:56:49.059676Z",
     "shell.execute_reply.started": "2021-06-27T08:45:08.096849Z"
    },
    "papermill": {
     "duration": 0.081718,
     "end_time": "2021-06-27T08:56:49.060466",
     "exception": false,
     "start_time": "2021-06-27T08:56:48.978748",
     "status": "completed"
    },
    "tags": []
   },
   "outputs": [],
   "source": [
    "train[\"family_group\"] = train[\"SibSp\"] + train[\"Parch\"] + 1"
   ]
  },
  {
   "cell_type": "code",
   "execution_count": 19,
   "metadata": {
    "execution": {
     "iopub.execute_input": "2021-06-27T08:56:49.167591Z",
     "iopub.status.busy": "2021-06-27T08:56:49.166510Z",
     "iopub.status.idle": "2021-06-27T08:56:49.173090Z",
     "shell.execute_reply": "2021-06-27T08:56:49.173574Z",
     "shell.execute_reply.started": "2021-06-27T08:45:08.422412Z"
    },
    "papermill": {
     "duration": 0.062758,
     "end_time": "2021-06-27T08:56:49.173737",
     "exception": false,
     "start_time": "2021-06-27T08:56:49.110979",
     "status": "completed"
    },
    "tags": []
   },
   "outputs": [],
   "source": [
    "test[\"family_group\"] = test[\"SibSp\"] + test[\"Parch\"] + 1"
   ]
  },
  {
   "cell_type": "code",
   "execution_count": 20,
   "metadata": {
    "execution": {
     "iopub.execute_input": "2021-06-27T08:56:49.279931Z",
     "iopub.status.busy": "2021-06-27T08:56:49.278858Z",
     "iopub.status.idle": "2021-06-27T08:56:49.289825Z",
     "shell.execute_reply": "2021-06-27T08:56:49.289253Z",
     "shell.execute_reply.started": "2021-06-27T08:54:16.600449Z"
    },
    "papermill": {
     "duration": 0.065988,
     "end_time": "2021-06-27T08:56:49.289968",
     "exception": false,
     "start_time": "2021-06-27T08:56:49.223980",
     "status": "completed"
    },
    "tags": []
   },
   "outputs": [],
   "source": [
    "## Test set\n",
    "passenger_id  = pd.read_csv(\"/kaggle/input/titanic/test.csv\")['PassengerId']"
   ]
  },
  {
   "cell_type": "code",
   "execution_count": 21,
   "metadata": {
    "execution": {
     "iopub.execute_input": "2021-06-27T08:56:49.399637Z",
     "iopub.status.busy": "2021-06-27T08:56:49.396182Z",
     "iopub.status.idle": "2021-06-27T08:56:49.401823Z",
     "shell.execute_reply": "2021-06-27T08:56:49.402326Z",
     "shell.execute_reply.started": "2021-06-27T08:45:08.864835Z"
    },
    "papermill": {
     "duration": 0.062437,
     "end_time": "2021-06-27T08:56:49.402484",
     "exception": false,
     "start_time": "2021-06-27T08:56:49.340047",
     "status": "completed"
    },
    "tags": []
   },
   "outputs": [],
   "source": [
    "train.drop(['PassengerId', 'Ticket', 'Name', 'SibSp', 'Parch'], axis=1, inplace=True)\n",
    "test.drop(['PassengerId', 'Ticket', 'Name', 'SibSp', 'Parch'], axis=1, inplace=True)"
   ]
  },
  {
   "cell_type": "code",
   "execution_count": 22,
   "metadata": {
    "execution": {
     "iopub.execute_input": "2021-06-27T08:56:49.506405Z",
     "iopub.status.busy": "2021-06-27T08:56:49.505706Z",
     "iopub.status.idle": "2021-06-27T08:56:49.514912Z",
     "shell.execute_reply": "2021-06-27T08:56:49.514298Z",
     "shell.execute_reply.started": "2021-06-27T08:45:09.050120Z"
    },
    "papermill": {
     "duration": 0.062345,
     "end_time": "2021-06-27T08:56:49.515033",
     "exception": false,
     "start_time": "2021-06-27T08:56:49.452688",
     "status": "completed"
    },
    "tags": []
   },
   "outputs": [
    {
     "data": {
      "text/plain": [
       "Survived        0\n",
       "Pclass          0\n",
       "Sex             0\n",
       "Age             0\n",
       "Fare            0\n",
       "Embarked        2\n",
       "family_group    0\n",
       "dtype: int64"
      ]
     },
     "execution_count": 22,
     "metadata": {},
     "output_type": "execute_result"
    }
   ],
   "source": [
    "train.isnull().sum()"
   ]
  },
  {
   "cell_type": "code",
   "execution_count": 23,
   "metadata": {
    "execution": {
     "iopub.execute_input": "2021-06-27T08:56:49.629334Z",
     "iopub.status.busy": "2021-06-27T08:56:49.628521Z",
     "iopub.status.idle": "2021-06-27T08:56:49.631757Z",
     "shell.execute_reply": "2021-06-27T08:56:49.632269Z",
     "shell.execute_reply.started": "2021-06-27T08:45:09.220511Z"
    },
    "papermill": {
     "duration": 0.065519,
     "end_time": "2021-06-27T08:56:49.632415",
     "exception": false,
     "start_time": "2021-06-27T08:56:49.566896",
     "status": "completed"
    },
    "tags": []
   },
   "outputs": [
    {
     "data": {
      "text/plain": [
       "Pclass          0\n",
       "Sex             0\n",
       "Age             0\n",
       "Fare            1\n",
       "Embarked        0\n",
       "family_group    0\n",
       "dtype: int64"
      ]
     },
     "execution_count": 23,
     "metadata": {},
     "output_type": "execute_result"
    }
   ],
   "source": [
    "test.isnull().sum()"
   ]
  },
  {
   "cell_type": "code",
   "execution_count": 24,
   "metadata": {
    "execution": {
     "iopub.execute_input": "2021-06-27T08:56:49.738109Z",
     "iopub.status.busy": "2021-06-27T08:56:49.737408Z",
     "iopub.status.idle": "2021-06-27T08:56:49.743493Z",
     "shell.execute_reply": "2021-06-27T08:56:49.744014Z",
     "shell.execute_reply.started": "2021-06-27T08:45:09.412522Z"
    },
    "papermill": {
     "duration": 0.060471,
     "end_time": "2021-06-27T08:56:49.744179",
     "exception": false,
     "start_time": "2021-06-27T08:56:49.683708",
     "status": "completed"
    },
    "tags": []
   },
   "outputs": [
    {
     "data": {
      "text/plain": [
       "array(['S', 'C', 'Q', nan], dtype=object)"
      ]
     },
     "execution_count": 24,
     "metadata": {},
     "output_type": "execute_result"
    }
   ],
   "source": [
    "train['Embarked'].unique()"
   ]
  },
  {
   "cell_type": "code",
   "execution_count": 25,
   "metadata": {
    "execution": {
     "iopub.execute_input": "2021-06-27T08:56:49.864305Z",
     "iopub.status.busy": "2021-06-27T08:56:49.862181Z",
     "iopub.status.idle": "2021-06-27T08:56:50.046712Z",
     "shell.execute_reply": "2021-06-27T08:56:50.047202Z",
     "shell.execute_reply.started": "2021-06-27T08:45:09.602376Z"
    },
    "papermill": {
     "duration": 0.250783,
     "end_time": "2021-06-27T08:56:50.047386",
     "exception": false,
     "start_time": "2021-06-27T08:56:49.796603",
     "status": "completed"
    },
    "tags": []
   },
   "outputs": [
    {
     "data": {
      "text/plain": [
       "<matplotlib.axes._subplots.AxesSubplot at 0x7f012fe3cc10>"
      ]
     },
     "execution_count": 25,
     "metadata": {},
     "output_type": "execute_result"
    },
    {
     "data": {
      "image/png": "[encoded data removed]",
      "text/plain": [
       "<Figure size 432x288 with 1 Axes>"
      ]
     },
     "metadata": {
      "needs_background": "light"
     },
     "output_type": "display_data"
    }
   ],
   "source": [
    "sns.countplot(train['Embarked'])"
   ]
  },
  {
   "cell_type": "code",
   "execution_count": 26,
   "metadata": {
    "execution": {
     "iopub.execute_input": "2021-06-27T08:56:50.163333Z",
     "iopub.status.busy": "2021-06-27T08:56:50.162389Z",
     "iopub.status.idle": "2021-06-27T08:56:50.270729Z",
     "shell.execute_reply": "2021-06-27T08:56:50.271280Z",
     "shell.execute_reply.started": "2021-06-27T08:45:09.770481Z"
    },
    "papermill": {
     "duration": 0.170899,
     "end_time": "2021-06-27T08:56:50.271469",
     "exception": false,
     "start_time": "2021-06-27T08:56:50.100570",
     "status": "completed"
    },
    "tags": []
   },
   "outputs": [
    {
     "data": {
      "text/plain": [
       "<matplotlib.axes._subplots.AxesSubplot at 0x7f012dbf5d50>"
      ]
     },
     "execution_count": 26,
     "metadata": {},
     "output_type": "execute_result"
    },
    {
     "data": {
      "image/png": "[encoded data removed]",
      "text/plain": [
       "<Figure size 432x288 with 1 Axes>"
      ]
     },
     "metadata": {
      "needs_background": "light"
     },
     "output_type": "display_data"
    }
   ],
   "source": [
    "sns.countplot(test['Embarked'])"
   ]
  },
  {
   "cell_type": "code",
   "execution_count": 27,
   "metadata": {
    "execution": {
     "iopub.execute_input": "2021-06-27T08:56:50.382473Z",
     "iopub.status.busy": "2021-06-27T08:56:50.381778Z",
     "iopub.status.idle": "2021-06-27T08:56:50.386632Z",
     "shell.execute_reply": "2021-06-27T08:56:50.387173Z",
     "shell.execute_reply.started": "2021-06-27T08:45:10.039163Z"
    },
    "papermill": {
     "duration": 0.062217,
     "end_time": "2021-06-27T08:56:50.387340",
     "exception": false,
     "start_time": "2021-06-27T08:56:50.325123",
     "status": "completed"
    },
    "tags": []
   },
   "outputs": [],
   "source": [
    "train['Embarked'] = train['Embarked'].fillna('S')"
   ]
  },
  {
   "cell_type": "code",
   "execution_count": 28,
   "metadata": {
    "execution": {
     "iopub.execute_input": "2021-06-27T08:56:50.500645Z",
     "iopub.status.busy": "2021-06-27T08:56:50.495837Z",
     "iopub.status.idle": "2021-06-27T08:56:50.504544Z",
     "shell.execute_reply": "2021-06-27T08:56:50.503966Z",
     "shell.execute_reply.started": "2021-06-27T08:45:11.308578Z"
    },
    "papermill": {
     "duration": 0.064216,
     "end_time": "2021-06-27T08:56:50.504658",
     "exception": false,
     "start_time": "2021-06-27T08:56:50.440442",
     "status": "completed"
    },
    "tags": []
   },
   "outputs": [
    {
     "data": {
      "text/plain": [
       "Survived        0\n",
       "Pclass          0\n",
       "Sex             0\n",
       "Age             0\n",
       "Fare            0\n",
       "Embarked        0\n",
       "family_group    0\n",
       "dtype: int64"
      ]
     },
     "execution_count": 28,
     "metadata": {},
     "output_type": "execute_result"
    }
   ],
   "source": [
    "train.isnull().sum()"
   ]
  },
  {
   "cell_type": "code",
   "execution_count": 29,
   "metadata": {
    "execution": {
     "iopub.execute_input": "2021-06-27T08:56:50.616839Z",
     "iopub.status.busy": "2021-06-27T08:56:50.616138Z",
     "iopub.status.idle": "2021-06-27T08:56:52.332150Z",
     "shell.execute_reply": "2021-06-27T08:56:52.331455Z",
     "shell.execute_reply.started": "2021-06-27T08:45:12.746270Z"
    },
    "papermill": {
     "duration": 1.773958,
     "end_time": "2021-06-27T08:56:52.332274",
     "exception": false,
     "start_time": "2021-06-27T08:56:50.558316",
     "status": "completed"
    },
    "tags": []
   },
   "outputs": [
    {
     "data": {
      "text/plain": [
       "<matplotlib.axes._subplots.AxesSubplot at 0x7f012db6e850>"
      ]
     },
     "execution_count": 29,
     "metadata": {},
     "output_type": "execute_result"
    },
    {
     "data": {
      "image/png": "[encoded data removed]",
      "text/plain": [
       "<Figure size 432x288 with 1 Axes>"
      ]
     },
     "metadata": {
      "needs_background": "light"
     },
     "output_type": "display_data"
    }
   ],
   "source": [
    "sns.lineplot(x=test.Age,y=test.Fare)"
   ]
  },
  {
   "cell_type": "code",
   "execution_count": 30,
   "metadata": {
    "execution": {
     "iopub.execute_input": "2021-06-27T08:56:52.455305Z",
     "iopub.status.busy": "2021-06-27T08:56:52.454596Z",
     "iopub.status.idle": "2021-06-27T08:56:52.457505Z",
     "shell.execute_reply": "2021-06-27T08:56:52.457957Z",
     "shell.execute_reply.started": "2021-06-27T08:45:14.419049Z"
    },
    "papermill": {
     "duration": 0.071389,
     "end_time": "2021-06-27T08:56:52.458124",
     "exception": false,
     "start_time": "2021-06-27T08:56:52.386735",
     "status": "completed"
    },
    "tags": []
   },
   "outputs": [
    {
     "data": {
      "text/html": [
       "<div>\n",
       "<style scoped>\n",
       "    .dataframe tbody tr th:only-of-type {\n",
       "        vertical-align: middle;\n",
       "    }\n",
       "\n",
       "    .dataframe tbody tr th {\n",
       "        vertical-align: top;\n",
       "    }\n",
       "\n",
       "    .dataframe thead th {\n",
       "        text-align: right;\n",
       "    }\n",
       "</style>\n",
       "<table border=\"1\" class=\"dataframe\">\n",
       "  <thead>\n",
       "    <tr style=\"text-align: right;\">\n",
       "      <th></th>\n",
       "      <th>Pclass</th>\n",
       "      <th>Sex</th>\n",
       "      <th>Age</th>\n",
       "      <th>Fare</th>\n",
       "      <th>Embarked</th>\n",
       "      <th>family_group</th>\n",
       "    </tr>\n",
       "  </thead>\n",
       "  <tbody>\n",
       "    <tr>\n",
       "      <th>152</th>\n",
       "      <td>3</td>\n",
       "      <td>male</td>\n",
       "      <td>60.5</td>\n",
       "      <td>NaN</td>\n",
       "      <td>S</td>\n",
       "      <td>1</td>\n",
       "    </tr>\n",
       "  </tbody>\n",
       "</table>\n",
       "</div>"
      ],
      "text/plain": [
       "     Pclass   Sex   Age  Fare Embarked  family_group\n",
       "152       3  male  60.5   NaN        S             1"
      ]
     },
     "execution_count": 30,
     "metadata": {},
     "output_type": "execute_result"
    }
   ],
   "source": [
    "test[test.Fare.isnull()]"
   ]
  },
  {
   "cell_type": "code",
   "execution_count": 31,
   "metadata": {
    "execution": {
     "iopub.execute_input": "2021-06-27T08:56:52.574263Z",
     "iopub.status.busy": "2021-06-27T08:56:52.573545Z",
     "iopub.status.idle": "2021-06-27T08:56:52.580147Z",
     "shell.execute_reply": "2021-06-27T08:56:52.580644Z",
     "shell.execute_reply.started": "2021-06-27T08:45:14.433620Z"
    },
    "papermill": {
     "duration": 0.067037,
     "end_time": "2021-06-27T08:56:52.580819",
     "exception": false,
     "start_time": "2021-06-27T08:56:52.513782",
     "status": "completed"
    },
    "tags": []
   },
   "outputs": [],
   "source": [
    "fare_50s = test[(test.Age >= 50) & (test.Age < 60)]['Fare'].mean()"
   ]
  },
  {
   "cell_type": "code",
   "execution_count": 32,
   "metadata": {
    "execution": {
     "iopub.execute_input": "2021-06-27T08:56:52.699709Z",
     "iopub.status.busy": "2021-06-27T08:56:52.698997Z",
     "iopub.status.idle": "2021-06-27T08:56:52.701236Z",
     "shell.execute_reply": "2021-06-27T08:56:52.701718Z",
     "shell.execute_reply.started": "2021-06-27T08:45:14.443986Z"
    },
    "papermill": {
     "duration": 0.065243,
     "end_time": "2021-06-27T08:56:52.701889",
     "exception": false,
     "start_time": "2021-06-27T08:56:52.636646",
     "status": "completed"
    },
    "tags": []
   },
   "outputs": [],
   "source": [
    "test['Fare'] = test['Fare'].fillna(fare_50s)"
   ]
  },
  {
   "cell_type": "code",
   "execution_count": 33,
   "metadata": {
    "execution": {
     "iopub.execute_input": "2021-06-27T08:56:52.818770Z",
     "iopub.status.busy": "2021-06-27T08:56:52.818043Z",
     "iopub.status.idle": "2021-06-27T08:56:52.825503Z",
     "shell.execute_reply": "2021-06-27T08:56:52.826023Z",
     "shell.execute_reply.started": "2021-06-27T08:45:14.639609Z"
    },
    "papermill": {
     "duration": 0.068017,
     "end_time": "2021-06-27T08:56:52.826196",
     "exception": false,
     "start_time": "2021-06-27T08:56:52.758179",
     "status": "completed"
    },
    "tags": []
   },
   "outputs": [
    {
     "data": {
      "text/plain": [
       "Pclass          0\n",
       "Sex             0\n",
       "Age             0\n",
       "Fare            0\n",
       "Embarked        0\n",
       "family_group    0\n",
       "dtype: int64"
      ]
     },
     "execution_count": 33,
     "metadata": {},
     "output_type": "execute_result"
    }
   ],
   "source": [
    "test.isnull().sum()"
   ]
  },
  {
   "cell_type": "code",
   "execution_count": 34,
   "metadata": {
    "execution": {
     "iopub.execute_input": "2021-06-27T08:56:52.942534Z",
     "iopub.status.busy": "2021-06-27T08:56:52.941725Z",
     "iopub.status.idle": "2021-06-27T08:56:52.961626Z",
     "shell.execute_reply": "2021-06-27T08:56:52.961011Z",
     "shell.execute_reply.started": "2021-06-27T08:45:16.737043Z"
    },
    "papermill": {
     "duration": 0.078443,
     "end_time": "2021-06-27T08:56:52.961743",
     "exception": false,
     "start_time": "2021-06-27T08:56:52.883300",
     "status": "completed"
    },
    "tags": []
   },
   "outputs": [],
   "source": [
    "#性別と乗船港をダミー変数への変換\n",
    "dummy_train = pd.get_dummies(train[['Sex', 'Embarked']])\n",
    "dummy_test = pd.get_dummies(test[['Sex', 'Embarked']])\n",
    "\n",
    "train_two = pd.concat([train.drop([\"Sex\", \"Embarked\"], axis = 1),dummy_train], axis = 1)\n",
    "test_two = pd.concat([test.drop([\"Sex\", \"Embarked\"], axis = 1),dummy_test], axis = 1)"
   ]
  },
  {
   "cell_type": "code",
   "execution_count": 35,
   "metadata": {
    "execution": {
     "iopub.execute_input": "2021-06-27T08:56:53.078803Z",
     "iopub.status.busy": "2021-06-27T08:56:53.077758Z",
     "iopub.status.idle": "2021-06-27T08:56:53.081847Z",
     "shell.execute_reply": "2021-06-27T08:56:53.081341Z",
     "shell.execute_reply.started": "2021-06-27T08:45:17.525265Z"
    },
    "papermill": {
     "duration": 0.064987,
     "end_time": "2021-06-27T08:56:53.081961",
     "exception": false,
     "start_time": "2021-06-27T08:56:53.016974",
     "status": "completed"
    },
    "tags": []
   },
   "outputs": [],
   "source": [
    "train_two.drop('Sex_female', axis=1, inplace=True)"
   ]
  },
  {
   "cell_type": "code",
   "execution_count": 36,
   "metadata": {
    "execution": {
     "iopub.execute_input": "2021-06-27T08:56:53.252212Z",
     "iopub.status.busy": "2021-06-27T08:56:53.251479Z",
     "iopub.status.idle": "2021-06-27T08:56:53.253601Z",
     "shell.execute_reply": "2021-06-27T08:56:53.254132Z",
     "shell.execute_reply.started": "2021-06-27T08:45:18.000339Z"
    },
    "papermill": {
     "duration": 0.116437,
     "end_time": "2021-06-27T08:56:53.254293",
     "exception": false,
     "start_time": "2021-06-27T08:56:53.137856",
     "status": "completed"
    },
    "tags": []
   },
   "outputs": [],
   "source": [
    "test_two.drop('Sex_female', axis=1, inplace=True)"
   ]
  },
  {
   "cell_type": "code",
   "execution_count": 37,
   "metadata": {
    "execution": {
     "iopub.execute_input": "2021-06-27T08:56:53.369885Z",
     "iopub.status.busy": "2021-06-27T08:56:53.369207Z",
     "iopub.status.idle": "2021-06-27T08:56:53.373873Z",
     "shell.execute_reply": "2021-06-27T08:56:53.374362Z",
     "shell.execute_reply.started": "2021-06-27T08:45:18.793671Z"
    },
    "papermill": {
     "duration": 0.064124,
     "end_time": "2021-06-27T08:56:53.374516",
     "exception": false,
     "start_time": "2021-06-27T08:56:53.310392",
     "status": "completed"
    },
    "tags": []
   },
   "outputs": [],
   "source": [
    "train = train_two.rename(columns={'Sex_male': 'Sex'})"
   ]
  },
  {
   "cell_type": "code",
   "execution_count": 38,
   "metadata": {
    "execution": {
     "iopub.execute_input": "2021-06-27T08:56:53.488721Z",
     "iopub.status.busy": "2021-06-27T08:56:53.488015Z",
     "iopub.status.idle": "2021-06-27T08:56:53.585647Z",
     "shell.execute_reply": "2021-06-27T08:56:53.586142Z",
     "shell.execute_reply.started": "2021-06-27T08:45:19.032579Z"
    },
    "papermill": {
     "duration": 0.156083,
     "end_time": "2021-06-27T08:56:53.586308",
     "exception": false,
     "start_time": "2021-06-27T08:56:53.430225",
     "status": "completed"
    },
    "tags": []
   },
   "outputs": [
    {
     "data": {
      "text/html": [
       "<div>\n",
       "<style scoped>\n",
       "    .dataframe tbody tr th:only-of-type {\n",
       "        vertical-align: middle;\n",
       "    }\n",
       "\n",
       "    .dataframe tbody tr th {\n",
       "        vertical-align: top;\n",
       "    }\n",
       "\n",
       "    .dataframe thead th {\n",
       "        text-align: right;\n",
       "    }\n",
       "</style>\n",
       "<table border=\"1\" class=\"dataframe\">\n",
       "  <thead>\n",
       "    <tr style=\"text-align: right;\">\n",
       "      <th></th>\n",
       "      <th>Survived</th>\n",
       "      <th>Pclass</th>\n",
       "      <th>Age</th>\n",
       "      <th>Fare</th>\n",
       "      <th>family_group</th>\n",
       "      <th>Sex</th>\n",
       "      <th>Embarked_C</th>\n",
       "      <th>Embarked_Q</th>\n",
       "      <th>Embarked_S</th>\n",
       "    </tr>\n",
       "  </thead>\n",
       "  <tbody>\n",
       "    <tr>\n",
       "      <th>0</th>\n",
       "      <td>0</td>\n",
       "      <td>3</td>\n",
       "      <td>22.000000</td>\n",
       "      <td>7.2500</td>\n",
       "      <td>2</td>\n",
       "      <td>1</td>\n",
       "      <td>0</td>\n",
       "      <td>0</td>\n",
       "      <td>1</td>\n",
       "    </tr>\n",
       "    <tr>\n",
       "      <th>1</th>\n",
       "      <td>1</td>\n",
       "      <td>1</td>\n",
       "      <td>38.000000</td>\n",
       "      <td>71.2833</td>\n",
       "      <td>2</td>\n",
       "      <td>0</td>\n",
       "      <td>1</td>\n",
       "      <td>0</td>\n",
       "      <td>0</td>\n",
       "    </tr>\n",
       "    <tr>\n",
       "      <th>2</th>\n",
       "      <td>1</td>\n",
       "      <td>3</td>\n",
       "      <td>26.000000</td>\n",
       "      <td>7.9250</td>\n",
       "      <td>1</td>\n",
       "      <td>0</td>\n",
       "      <td>0</td>\n",
       "      <td>0</td>\n",
       "      <td>1</td>\n",
       "    </tr>\n",
       "    <tr>\n",
       "      <th>3</th>\n",
       "      <td>1</td>\n",
       "      <td>1</td>\n",
       "      <td>35.000000</td>\n",
       "      <td>53.1000</td>\n",
       "      <td>2</td>\n",
       "      <td>0</td>\n",
       "      <td>0</td>\n",
       "      <td>0</td>\n",
       "      <td>1</td>\n",
       "    </tr>\n",
       "    <tr>\n",
       "      <th>4</th>\n",
       "      <td>0</td>\n",
       "      <td>3</td>\n",
       "      <td>35.000000</td>\n",
       "      <td>8.0500</td>\n",
       "      <td>1</td>\n",
       "      <td>1</td>\n",
       "      <td>0</td>\n",
       "      <td>0</td>\n",
       "      <td>1</td>\n",
       "    </tr>\n",
       "    <tr>\n",
       "      <th>...</th>\n",
       "      <td>...</td>\n",
       "      <td>...</td>\n",
       "      <td>...</td>\n",
       "      <td>...</td>\n",
       "      <td>...</td>\n",
       "      <td>...</td>\n",
       "      <td>...</td>\n",
       "      <td>...</td>\n",
       "      <td>...</td>\n",
       "    </tr>\n",
       "    <tr>\n",
       "      <th>886</th>\n",
       "      <td>0</td>\n",
       "      <td>2</td>\n",
       "      <td>27.000000</td>\n",
       "      <td>13.0000</td>\n",
       "      <td>1</td>\n",
       "      <td>1</td>\n",
       "      <td>0</td>\n",
       "      <td>0</td>\n",
       "      <td>1</td>\n",
       "    </tr>\n",
       "    <tr>\n",
       "      <th>887</th>\n",
       "      <td>1</td>\n",
       "      <td>1</td>\n",
       "      <td>19.000000</td>\n",
       "      <td>30.0000</td>\n",
       "      <td>1</td>\n",
       "      <td>0</td>\n",
       "      <td>0</td>\n",
       "      <td>0</td>\n",
       "      <td>1</td>\n",
       "    </tr>\n",
       "    <tr>\n",
       "      <th>888</th>\n",
       "      <td>0</td>\n",
       "      <td>3</td>\n",
       "      <td>27.915709</td>\n",
       "      <td>23.4500</td>\n",
       "      <td>4</td>\n",
       "      <td>0</td>\n",
       "      <td>0</td>\n",
       "      <td>0</td>\n",
       "      <td>1</td>\n",
       "    </tr>\n",
       "    <tr>\n",
       "      <th>889</th>\n",
       "      <td>1</td>\n",
       "      <td>1</td>\n",
       "      <td>26.000000</td>\n",
       "      <td>30.0000</td>\n",
       "      <td>1</td>\n",
       "      <td>1</td>\n",
       "      <td>1</td>\n",
       "      <td>0</td>\n",
       "      <td>0</td>\n",
       "    </tr>\n",
       "    <tr>\n",
       "      <th>890</th>\n",
       "      <td>0</td>\n",
       "      <td>3</td>\n",
       "      <td>32.000000</td>\n",
       "      <td>7.7500</td>\n",
       "      <td>1</td>\n",
       "      <td>1</td>\n",
       "      <td>0</td>\n",
       "      <td>1</td>\n",
       "      <td>0</td>\n",
       "    </tr>\n",
       "  </tbody>\n",
       "</table>\n",
       "<p>891 rows × 9 columns</p>\n",
       "</div>"
      ],
      "text/plain": [
       "     Survived  Pclass        Age     Fare  family_group  Sex  Embarked_C  \\\n",
       "0           0       3  22.000000   7.2500             2    1           0   \n",
       "1           1       1  38.000000  71.2833             2    0           1   \n",
       "2           1       3  26.000000   7.9250             1    0           0   \n",
       "3           1       1  35.000000  53.1000             2    0           0   \n",
       "4           0       3  35.000000   8.0500             1    1           0   \n",
       "..        ...     ...        ...      ...           ...  ...         ...   \n",
       "886         0       2  27.000000  13.0000             1    1           0   \n",
       "887         1       1  19.000000  30.0000             1    0           0   \n",
       "888         0       3  27.915709  23.4500             4    0           0   \n",
       "889         1       1  26.000000  30.0000             1    1           1   \n",
       "890         0       3  32.000000   7.7500             1    1           0   \n",
       "\n",
       "     Embarked_Q  Embarked_S  \n",
       "0             0           1  \n",
       "1             0           0  \n",
       "2             0           1  \n",
       "3             0           1  \n",
       "4             0           1  \n",
       "..          ...         ...  \n",
       "886           0           1  \n",
       "887           0           1  \n",
       "888           0           1  \n",
       "889           0           0  \n",
       "890           1           0  \n",
       "\n",
       "[891 rows x 9 columns]"
      ]
     },
     "execution_count": 38,
     "metadata": {},
     "output_type": "execute_result"
    }
   ],
   "source": [
    "train"
   ]
  },
  {
   "cell_type": "code",
   "execution_count": 39,
   "metadata": {
    "execution": {
     "iopub.execute_input": "2021-06-27T08:56:53.704936Z",
     "iopub.status.busy": "2021-06-27T08:56:53.704236Z",
     "iopub.status.idle": "2021-06-27T08:56:53.710554Z",
     "shell.execute_reply": "2021-06-27T08:56:53.709835Z",
     "shell.execute_reply.started": "2021-06-27T08:45:20.035309Z"
    },
    "papermill": {
     "duration": 0.066463,
     "end_time": "2021-06-27T08:56:53.710676",
     "exception": false,
     "start_time": "2021-06-27T08:56:53.644213",
     "status": "completed"
    },
    "tags": []
   },
   "outputs": [],
   "source": [
    "test = test_two.rename(columns={'Sex_male': 'Sex'})"
   ]
  },
  {
   "cell_type": "code",
   "execution_count": 40,
   "metadata": {
    "execution": {
     "iopub.execute_input": "2021-06-27T08:56:53.843498Z",
     "iopub.status.busy": "2021-06-27T08:56:53.842639Z",
     "iopub.status.idle": "2021-06-27T08:56:53.846164Z",
     "shell.execute_reply": "2021-06-27T08:56:53.846622Z",
     "shell.execute_reply.started": "2021-06-27T08:45:20.295308Z"
    },
    "papermill": {
     "duration": 0.079507,
     "end_time": "2021-06-27T08:56:53.846774",
     "exception": false,
     "start_time": "2021-06-27T08:56:53.767267",
     "status": "completed"
    },
    "tags": []
   },
   "outputs": [
    {
     "data": {
      "text/html": [
       "<div>\n",
       "<style scoped>\n",
       "    .dataframe tbody tr th:only-of-type {\n",
       "        vertical-align: middle;\n",
       "    }\n",
       "\n",
       "    .dataframe tbody tr th {\n",
       "        vertical-align: top;\n",
       "    }\n",
       "\n",
       "    .dataframe thead th {\n",
       "        text-align: right;\n",
       "    }\n",
       "</style>\n",
       "<table border=\"1\" class=\"dataframe\">\n",
       "  <thead>\n",
       "    <tr style=\"text-align: right;\">\n",
       "      <th></th>\n",
       "      <th>Pclass</th>\n",
       "      <th>Age</th>\n",
       "      <th>Fare</th>\n",
       "      <th>family_group</th>\n",
       "      <th>Sex</th>\n",
       "      <th>Embarked_C</th>\n",
       "      <th>Embarked_Q</th>\n",
       "      <th>Embarked_S</th>\n",
       "    </tr>\n",
       "  </thead>\n",
       "  <tbody>\n",
       "    <tr>\n",
       "      <th>0</th>\n",
       "      <td>3</td>\n",
       "      <td>34.500000</td>\n",
       "      <td>7.8292</td>\n",
       "      <td>1</td>\n",
       "      <td>1</td>\n",
       "      <td>0</td>\n",
       "      <td>1</td>\n",
       "      <td>0</td>\n",
       "    </tr>\n",
       "    <tr>\n",
       "      <th>1</th>\n",
       "      <td>3</td>\n",
       "      <td>47.000000</td>\n",
       "      <td>7.0000</td>\n",
       "      <td>2</td>\n",
       "      <td>0</td>\n",
       "      <td>0</td>\n",
       "      <td>0</td>\n",
       "      <td>1</td>\n",
       "    </tr>\n",
       "    <tr>\n",
       "      <th>2</th>\n",
       "      <td>2</td>\n",
       "      <td>62.000000</td>\n",
       "      <td>9.6875</td>\n",
       "      <td>1</td>\n",
       "      <td>1</td>\n",
       "      <td>0</td>\n",
       "      <td>1</td>\n",
       "      <td>0</td>\n",
       "    </tr>\n",
       "    <tr>\n",
       "      <th>3</th>\n",
       "      <td>3</td>\n",
       "      <td>27.000000</td>\n",
       "      <td>8.6625</td>\n",
       "      <td>1</td>\n",
       "      <td>1</td>\n",
       "      <td>0</td>\n",
       "      <td>0</td>\n",
       "      <td>1</td>\n",
       "    </tr>\n",
       "    <tr>\n",
       "      <th>4</th>\n",
       "      <td>3</td>\n",
       "      <td>22.000000</td>\n",
       "      <td>12.2875</td>\n",
       "      <td>3</td>\n",
       "      <td>0</td>\n",
       "      <td>0</td>\n",
       "      <td>0</td>\n",
       "      <td>1</td>\n",
       "    </tr>\n",
       "    <tr>\n",
       "      <th>...</th>\n",
       "      <td>...</td>\n",
       "      <td>...</td>\n",
       "      <td>...</td>\n",
       "      <td>...</td>\n",
       "      <td>...</td>\n",
       "      <td>...</td>\n",
       "      <td>...</td>\n",
       "      <td>...</td>\n",
       "    </tr>\n",
       "    <tr>\n",
       "      <th>413</th>\n",
       "      <td>3</td>\n",
       "      <td>30.726645</td>\n",
       "      <td>8.0500</td>\n",
       "      <td>1</td>\n",
       "      <td>1</td>\n",
       "      <td>0</td>\n",
       "      <td>0</td>\n",
       "      <td>1</td>\n",
       "    </tr>\n",
       "    <tr>\n",
       "      <th>414</th>\n",
       "      <td>1</td>\n",
       "      <td>39.000000</td>\n",
       "      <td>108.9000</td>\n",
       "      <td>1</td>\n",
       "      <td>0</td>\n",
       "      <td>1</td>\n",
       "      <td>0</td>\n",
       "      <td>0</td>\n",
       "    </tr>\n",
       "    <tr>\n",
       "      <th>415</th>\n",
       "      <td>3</td>\n",
       "      <td>38.500000</td>\n",
       "      <td>7.2500</td>\n",
       "      <td>1</td>\n",
       "      <td>1</td>\n",
       "      <td>0</td>\n",
       "      <td>0</td>\n",
       "      <td>1</td>\n",
       "    </tr>\n",
       "    <tr>\n",
       "      <th>416</th>\n",
       "      <td>3</td>\n",
       "      <td>30.726645</td>\n",
       "      <td>8.0500</td>\n",
       "      <td>1</td>\n",
       "      <td>1</td>\n",
       "      <td>0</td>\n",
       "      <td>0</td>\n",
       "      <td>1</td>\n",
       "    </tr>\n",
       "    <tr>\n",
       "      <th>417</th>\n",
       "      <td>3</td>\n",
       "      <td>30.726645</td>\n",
       "      <td>22.3583</td>\n",
       "      <td>3</td>\n",
       "      <td>1</td>\n",
       "      <td>1</td>\n",
       "      <td>0</td>\n",
       "      <td>0</td>\n",
       "    </tr>\n",
       "  </tbody>\n",
       "</table>\n",
       "<p>418 rows × 8 columns</p>\n",
       "</div>"
      ],
      "text/plain": [
       "     Pclass        Age      Fare  family_group  Sex  Embarked_C  Embarked_Q  \\\n",
       "0         3  34.500000    7.8292             1    1           0           1   \n",
       "1         3  47.000000    7.0000             2    0           0           0   \n",
       "2         2  62.000000    9.6875             1    1           0           1   \n",
       "3         3  27.000000    8.6625             1    1           0           0   \n",
       "4         3  22.000000   12.2875             3    0           0           0   \n",
       "..      ...        ...       ...           ...  ...         ...         ...   \n",
       "413       3  30.726645    8.0500             1    1           0           0   \n",
       "414       1  39.000000  108.9000             1    0           1           0   \n",
       "415       3  38.500000    7.2500             1    1           0           0   \n",
       "416       3  30.726645    8.0500             1    1           0           0   \n",
       "417       3  30.726645   22.3583             3    1           1           0   \n",
       "\n",
       "     Embarked_S  \n",
       "0             0  \n",
       "1             1  \n",
       "2             0  \n",
       "3             1  \n",
       "4             1  \n",
       "..          ...  \n",
       "413           1  \n",
       "414           0  \n",
       "415           1  \n",
       "416           1  \n",
       "417           0  \n",
       "\n",
       "[418 rows x 8 columns]"
      ]
     },
     "execution_count": 40,
     "metadata": {},
     "output_type": "execute_result"
    }
   ],
   "source": [
    "test"
   ]
  },
  {
   "cell_type": "code",
   "execution_count": 41,
   "metadata": {
    "execution": {
     "iopub.execute_input": "2021-06-27T08:56:53.965002Z",
     "iopub.status.busy": "2021-06-27T08:56:53.964335Z",
     "iopub.status.idle": "2021-06-27T08:56:53.971294Z",
     "shell.execute_reply": "2021-06-27T08:56:53.971769Z",
     "shell.execute_reply.started": "2021-06-27T08:45:21.934953Z"
    },
    "papermill": {
     "duration": 0.068138,
     "end_time": "2021-06-27T08:56:53.971925",
     "exception": false,
     "start_time": "2021-06-27T08:56:53.903787",
     "status": "completed"
    },
    "tags": []
   },
   "outputs": [
    {
     "data": {
      "text/plain": [
       "Pclass          0\n",
       "Age             0\n",
       "Fare            0\n",
       "family_group    0\n",
       "Sex             0\n",
       "Embarked_C      0\n",
       "Embarked_Q      0\n",
       "Embarked_S      0\n",
       "dtype: int64"
      ]
     },
     "execution_count": 41,
     "metadata": {},
     "output_type": "execute_result"
    }
   ],
   "source": [
    "test.isnull().sum()"
   ]
  },
  {
   "cell_type": "markdown",
   "metadata": {
    "papermill": {
     "duration": 0.057134,
     "end_time": "2021-06-27T08:56:54.087964",
     "exception": false,
     "start_time": "2021-06-27T08:56:54.030830",
     "status": "completed"
    },
    "tags": []
   },
   "source": [
    "### Gender investigation"
   ]
  },
  {
   "cell_type": "code",
   "execution_count": 42,
   "metadata": {
    "execution": {
     "iopub.execute_input": "2021-06-27T08:56:54.206045Z",
     "iopub.status.busy": "2021-06-27T08:56:54.205170Z",
     "iopub.status.idle": "2021-06-27T08:56:54.218170Z",
     "shell.execute_reply": "2021-06-27T08:56:54.218788Z",
     "shell.execute_reply.started": "2021-06-27T08:45:23.625274Z"
    },
    "papermill": {
     "duration": 0.07354,
     "end_time": "2021-06-27T08:56:54.218949",
     "exception": false,
     "start_time": "2021-06-27T08:56:54.145409",
     "status": "completed"
    },
    "tags": []
   },
   "outputs": [
    {
     "data": {
      "text/html": [
       "<div>\n",
       "<style scoped>\n",
       "    .dataframe tbody tr th:only-of-type {\n",
       "        vertical-align: middle;\n",
       "    }\n",
       "\n",
       "    .dataframe tbody tr th {\n",
       "        vertical-align: top;\n",
       "    }\n",
       "\n",
       "    .dataframe thead th {\n",
       "        text-align: right;\n",
       "    }\n",
       "</style>\n",
       "<table border=\"1\" class=\"dataframe\">\n",
       "  <thead>\n",
       "    <tr style=\"text-align: right;\">\n",
       "      <th></th>\n",
       "      <th>Sex</th>\n",
       "      <th>Survived</th>\n",
       "      <th>No. of Survivors</th>\n",
       "    </tr>\n",
       "  </thead>\n",
       "  <tbody>\n",
       "    <tr>\n",
       "      <th>0</th>\n",
       "      <td>0</td>\n",
       "      <td>0</td>\n",
       "      <td>81</td>\n",
       "    </tr>\n",
       "    <tr>\n",
       "      <th>1</th>\n",
       "      <td>0</td>\n",
       "      <td>1</td>\n",
       "      <td>233</td>\n",
       "    </tr>\n",
       "    <tr>\n",
       "      <th>2</th>\n",
       "      <td>1</td>\n",
       "      <td>0</td>\n",
       "      <td>468</td>\n",
       "    </tr>\n",
       "    <tr>\n",
       "      <th>3</th>\n",
       "      <td>1</td>\n",
       "      <td>1</td>\n",
       "      <td>109</td>\n",
       "    </tr>\n",
       "  </tbody>\n",
       "</table>\n",
       "</div>"
      ],
      "text/plain": [
       "   Sex  Survived  No. of Survivors\n",
       "0    0         0                81\n",
       "1    0         1               233\n",
       "2    1         0               468\n",
       "3    1         1               109"
      ]
     },
     "execution_count": 42,
     "metadata": {},
     "output_type": "execute_result"
    }
   ],
   "source": [
    "train.groupby(['Sex', 'Survived']).size().reset_index(name='No. of Survivors')"
   ]
  },
  {
   "cell_type": "code",
   "execution_count": 43,
   "metadata": {
    "execution": {
     "iopub.execute_input": "2021-06-27T08:56:54.337914Z",
     "iopub.status.busy": "2021-06-27T08:56:54.337262Z",
     "iopub.status.idle": "2021-06-27T08:56:54.446855Z",
     "shell.execute_reply": "2021-06-27T08:56:54.447364Z",
     "shell.execute_reply.started": "2021-06-27T08:45:24.130678Z"
    },
    "papermill": {
     "duration": 0.171168,
     "end_time": "2021-06-27T08:56:54.447534",
     "exception": false,
     "start_time": "2021-06-27T08:56:54.276366",
     "status": "completed"
    },
    "tags": []
   },
   "outputs": [
    {
     "data": {
      "text/plain": [
       "<matplotlib.axes._subplots.AxesSubplot at 0x7f012dba6690>"
      ]
     },
     "execution_count": 43,
     "metadata": {},
     "output_type": "execute_result"
    },
    {
     "data": {
      "image/png": "[encoded data removed]",
      "text/plain": [
       "<Figure size 432x288 with 1 Axes>"
      ]
     },
     "metadata": {
      "needs_background": "light"
     },
     "output_type": "display_data"
    }
   ],
   "source": [
    "## Training Data\n",
    "sns.countplot(x='Sex', data=train)"
   ]
  },
  {
   "cell_type": "code",
   "execution_count": 44,
   "metadata": {
    "execution": {
     "iopub.execute_input": "2021-06-27T08:56:54.567786Z",
     "iopub.status.busy": "2021-06-27T08:56:54.567108Z",
     "iopub.status.idle": "2021-06-27T08:56:54.670955Z",
     "shell.execute_reply": "2021-06-27T08:56:54.671459Z",
     "shell.execute_reply.started": "2021-06-27T08:45:27.588397Z"
    },
    "papermill": {
     "duration": 0.165504,
     "end_time": "2021-06-27T08:56:54.671621",
     "exception": false,
     "start_time": "2021-06-27T08:56:54.506117",
     "status": "completed"
    },
    "tags": []
   },
   "outputs": [
    {
     "data": {
      "text/plain": [
       "<matplotlib.axes._subplots.AxesSubplot at 0x7f012da75a50>"
      ]
     },
     "execution_count": 44,
     "metadata": {},
     "output_type": "execute_result"
    },
    {
     "data": {
      "image/png": "[encoded data removed]",
      "text/plain": [
       "<Figure size 432x288 with 1 Axes>"
      ]
     },
     "metadata": {
      "needs_background": "light"
     },
     "output_type": "display_data"
    }
   ],
   "source": [
    "sns.countplot(x='Sex', data=test)"
   ]
  },
  {
   "cell_type": "markdown",
   "metadata": {
    "papermill": {
     "duration": 0.059547,
     "end_time": "2021-06-27T08:56:54.790264",
     "exception": false,
     "start_time": "2021-06-27T08:56:54.730717",
     "status": "completed"
    },
    "tags": []
   },
   "source": [
    "### PClass\n",
    "pclass: A proxy for socio-economic status (SES)\n",
    "\n",
    "1st = Upper\n",
    "\n",
    "2nd = Middle\n",
    "\n",
    "3rd = Lower"
   ]
  },
  {
   "cell_type": "markdown",
   "metadata": {
    "papermill": {
     "duration": 0.060438,
     "end_time": "2021-06-27T08:56:54.910238",
     "exception": false,
     "start_time": "2021-06-27T08:56:54.849800",
     "status": "completed"
    },
    "tags": []
   },
   "source": [
    "## Data Wrangling"
   ]
  },
  {
   "cell_type": "code",
   "execution_count": 45,
   "metadata": {
    "execution": {
     "iopub.execute_input": "2021-06-27T08:56:55.033223Z",
     "iopub.status.busy": "2021-06-27T08:56:55.032528Z",
     "iopub.status.idle": "2021-06-27T08:56:55.037784Z",
     "shell.execute_reply": "2021-06-27T08:56:55.038289Z",
     "shell.execute_reply.started": "2021-06-27T08:26:14.861825Z"
    },
    "papermill": {
     "duration": 0.068744,
     "end_time": "2021-06-27T08:56:55.038446",
     "exception": false,
     "start_time": "2021-06-27T08:56:54.969702",
     "status": "completed"
    },
    "tags": []
   },
   "outputs": [
    {
     "data": {
      "text/plain": [
       "['Survived',\n",
       " 'Pclass',\n",
       " 'Age',\n",
       " 'Fare',\n",
       " 'family_group',\n",
       " 'Sex',\n",
       " 'Embarked_C',\n",
       " 'Embarked_Q',\n",
       " 'Embarked_S']"
      ]
     },
     "execution_count": 45,
     "metadata": {},
     "output_type": "execute_result"
    }
   ],
   "source": [
    "list(train.columns)"
   ]
  },
  {
   "cell_type": "code",
   "execution_count": 46,
   "metadata": {
    "execution": {
     "iopub.execute_input": "2021-06-27T08:56:55.163906Z",
     "iopub.status.busy": "2021-06-27T08:56:55.163189Z",
     "iopub.status.idle": "2021-06-27T08:56:55.170377Z",
     "shell.execute_reply": "2021-06-27T08:56:55.170861Z",
     "shell.execute_reply.started": "2021-06-27T08:45:42.505106Z"
    },
    "papermill": {
     "duration": 0.070823,
     "end_time": "2021-06-27T08:56:55.171019",
     "exception": false,
     "start_time": "2021-06-27T08:56:55.100196",
     "status": "completed"
    },
    "tags": []
   },
   "outputs": [],
   "source": [
    "features = [\n",
    "                'Pclass',\n",
    "                'Age',\n",
    "                'Fare',\n",
    "                'family_group',\n",
    "                'Sex',\n",
    "                'Embarked_C',\n",
    "                'Embarked_Q',\n",
    "                'Embarked_S'\n",
    "            ]\n",
    "label    = ['Survived']\n",
    "X_train = train[features]\n",
    "y_train = train[label]"
   ]
  },
  {
   "cell_type": "code",
   "execution_count": 47,
   "metadata": {
    "execution": {
     "iopub.execute_input": "2021-06-27T08:56:55.294333Z",
     "iopub.status.busy": "2021-06-27T08:56:55.293650Z",
     "iopub.status.idle": "2021-06-27T08:56:55.299523Z",
     "shell.execute_reply": "2021-06-27T08:56:55.298940Z",
     "shell.execute_reply.started": "2021-06-27T08:51:50.582202Z"
    },
    "papermill": {
     "duration": 0.068829,
     "end_time": "2021-06-27T08:56:55.299652",
     "exception": false,
     "start_time": "2021-06-27T08:56:55.230823",
     "status": "completed"
    },
    "tags": []
   },
   "outputs": [],
   "source": [
    "X_test = test[features]"
   ]
  },
  {
   "cell_type": "code",
   "execution_count": 48,
   "metadata": {
    "execution": {
     "iopub.execute_input": "2021-06-27T08:56:55.426398Z",
     "iopub.status.busy": "2021-06-27T08:56:55.425712Z",
     "iopub.status.idle": "2021-06-27T08:56:55.430270Z",
     "shell.execute_reply": "2021-06-27T08:56:55.430900Z",
     "shell.execute_reply.started": "2021-06-27T08:45:45.795719Z"
    },
    "papermill": {
     "duration": 0.071101,
     "end_time": "2021-06-27T08:56:55.431047",
     "exception": false,
     "start_time": "2021-06-27T08:56:55.359946",
     "status": "completed"
    },
    "tags": []
   },
   "outputs": [],
   "source": [
    "X_train, X_valid, y_train, y_valid = train_test_split(X_train, y_train,test_size=0.3, random_state=3)"
   ]
  },
  {
   "cell_type": "markdown",
   "metadata": {
    "papermill": {
     "duration": 0.059994,
     "end_time": "2021-06-27T08:56:55.550539",
     "exception": false,
     "start_time": "2021-06-27T08:56:55.490545",
     "status": "completed"
    },
    "tags": []
   },
   "source": [
    "# Modeling"
   ]
  },
  {
   "cell_type": "code",
   "execution_count": 49,
   "metadata": {
    "execution": {
     "iopub.execute_input": "2021-06-27T08:56:55.673573Z",
     "iopub.status.busy": "2021-06-27T08:56:55.672833Z",
     "iopub.status.idle": "2021-06-27T08:56:55.688530Z",
     "shell.execute_reply": "2021-06-27T08:56:55.687981Z",
     "shell.execute_reply.started": "2021-06-27T08:46:11.940454Z"
    },
    "papermill": {
     "duration": 0.078135,
     "end_time": "2021-06-27T08:56:55.688649",
     "exception": false,
     "start_time": "2021-06-27T08:56:55.610514",
     "status": "completed"
    },
    "tags": []
   },
   "outputs": [
    {
     "data": {
      "text/plain": [
       "LogisticRegression(max_iter=300, solver='liblinear')"
      ]
     },
     "execution_count": 49,
     "metadata": {},
     "output_type": "execute_result"
    }
   ],
   "source": [
    "logisticRegression = LogisticRegression(max_iter=300, solver='liblinear')\n",
    "logisticRegression.fit(X_train, y_train.values.ravel())"
   ]
  },
  {
   "cell_type": "code",
   "execution_count": 50,
   "metadata": {
    "execution": {
     "iopub.execute_input": "2021-06-27T08:56:55.819029Z",
     "iopub.status.busy": "2021-06-27T08:56:55.818163Z",
     "iopub.status.idle": "2021-06-27T08:56:55.821311Z",
     "shell.execute_reply": "2021-06-27T08:56:55.820777Z",
     "shell.execute_reply.started": "2021-06-27T08:46:18.627125Z"
    },
    "papermill": {
     "duration": 0.072147,
     "end_time": "2021-06-27T08:56:55.821434",
     "exception": false,
     "start_time": "2021-06-27T08:56:55.749287",
     "status": "completed"
    },
    "tags": []
   },
   "outputs": [],
   "source": [
    "predictions = logisticRegression.predict(X_valid)"
   ]
  },
  {
   "cell_type": "code",
   "execution_count": 51,
   "metadata": {
    "execution": {
     "iopub.execute_input": "2021-06-27T08:56:55.951110Z",
     "iopub.status.busy": "2021-06-27T08:56:55.950222Z",
     "iopub.status.idle": "2021-06-27T08:56:55.953820Z",
     "shell.execute_reply": "2021-06-27T08:56:55.954489Z",
     "shell.execute_reply.started": "2021-06-27T08:46:33.366542Z"
    },
    "papermill": {
     "duration": 0.071292,
     "end_time": "2021-06-27T08:56:55.954643",
     "exception": false,
     "start_time": "2021-06-27T08:56:55.883351",
     "status": "completed"
    },
    "tags": []
   },
   "outputs": [
    {
     "name": "stdout",
     "output_type": "stream",
     "text": [
      "78.35820895522389\n"
     ]
    }
   ],
   "source": [
    "accuracy = accuracy_score(predictions, y_valid)\n",
    "print(accuracy * 100)"
   ]
  },
  {
   "cell_type": "code",
   "execution_count": 52,
   "metadata": {
    "execution": {
     "iopub.execute_input": "2021-06-27T08:56:56.082593Z",
     "iopub.status.busy": "2021-06-27T08:56:56.081540Z",
     "iopub.status.idle": "2021-06-27T08:56:56.096349Z",
     "shell.execute_reply": "2021-06-27T08:56:56.095751Z",
     "shell.execute_reply.started": "2021-06-27T08:49:48.533845Z"
    },
    "papermill": {
     "duration": 0.079627,
     "end_time": "2021-06-27T08:56:56.096469",
     "exception": false,
     "start_time": "2021-06-27T08:56:56.016842",
     "status": "completed"
    },
    "tags": []
   },
   "outputs": [
    {
     "name": "stdout",
     "output_type": "stream",
     "text": [
      "              precision    recall  f1-score   support\n",
      "\n",
      "           0       0.83      0.82      0.82       164\n",
      "           1       0.72      0.73      0.72       104\n",
      "\n",
      "    accuracy                           0.78       268\n",
      "   macro avg       0.77      0.77      0.77       268\n",
      "weighted avg       0.78      0.78      0.78       268\n",
      "\n"
     ]
    },
    {
     "data": {
      "text/plain": [
       "array([[134,  30],\n",
       "       [ 28,  76]])"
      ]
     },
     "execution_count": 52,
     "metadata": {},
     "output_type": "execute_result"
    }
   ],
   "source": [
    "from sklearn.metrics import classification_report\n",
    "print(classification_report(y_valid, predictions))\n",
    "from sklearn.metrics import confusion_matrix\n",
    "confusion_matrix(y_valid, predictions)"
   ]
  },
  {
   "cell_type": "markdown",
   "metadata": {
    "papermill": {
     "duration": 0.061625,
     "end_time": "2021-06-27T08:56:56.219710",
     "exception": false,
     "start_time": "2021-06-27T08:56:56.158085",
     "status": "completed"
    },
    "tags": []
   },
   "source": [
    "## Submit"
   ]
  },
  {
   "cell_type": "code",
   "execution_count": 53,
   "metadata": {
    "execution": {
     "iopub.execute_input": "2021-06-27T08:56:56.351856Z",
     "iopub.status.busy": "2021-06-27T08:56:56.351035Z",
     "iopub.status.idle": "2021-06-27T08:56:56.354228Z",
     "shell.execute_reply": "2021-06-27T08:56:56.353640Z",
     "shell.execute_reply.started": "2021-06-27T08:51:57.033429Z"
    },
    "papermill": {
     "duration": 0.071549,
     "end_time": "2021-06-27T08:56:56.354345",
     "exception": false,
     "start_time": "2021-06-27T08:56:56.282796",
     "status": "completed"
    },
    "tags": []
   },
   "outputs": [],
   "source": [
    "# One-hot encoding\n",
    "# test[['Female', 'Male']] = pd.get_dummies(test['Sex'])\n",
    "testPrediction = logisticRegression.predict(X_test)"
   ]
  },
  {
   "cell_type": "code",
   "execution_count": 54,
   "metadata": {
    "execution": {
     "iopub.execute_input": "2021-06-27T08:56:56.493105Z",
     "iopub.status.busy": "2021-06-27T08:56:56.485413Z",
     "iopub.status.idle": "2021-06-27T08:56:56.498001Z",
     "shell.execute_reply": "2021-06-27T08:56:56.497345Z",
     "shell.execute_reply.started": "2021-06-27T08:52:20.696360Z"
    },
    "papermill": {
     "duration": 0.082593,
     "end_time": "2021-06-27T08:56:56.498137",
     "exception": false,
     "start_time": "2021-06-27T08:56:56.415544",
     "status": "completed"
    },
    "tags": []
   },
   "outputs": [
    {
     "data": {
      "text/html": [
       "<div>\n",
       "<style scoped>\n",
       "    .dataframe tbody tr th:only-of-type {\n",
       "        vertical-align: middle;\n",
       "    }\n",
       "\n",
       "    .dataframe tbody tr th {\n",
       "        vertical-align: top;\n",
       "    }\n",
       "\n",
       "    .dataframe thead th {\n",
       "        text-align: right;\n",
       "    }\n",
       "</style>\n",
       "<table border=\"1\" class=\"dataframe\">\n",
       "  <thead>\n",
       "    <tr style=\"text-align: right;\">\n",
       "      <th></th>\n",
       "      <th>Pclass</th>\n",
       "      <th>Age</th>\n",
       "      <th>Fare</th>\n",
       "      <th>family_group</th>\n",
       "      <th>Sex</th>\n",
       "      <th>Embarked_C</th>\n",
       "      <th>Embarked_Q</th>\n",
       "      <th>Embarked_S</th>\n",
       "    </tr>\n",
       "  </thead>\n",
       "  <tbody>\n",
       "    <tr>\n",
       "      <th>0</th>\n",
       "      <td>3</td>\n",
       "      <td>34.500000</td>\n",
       "      <td>7.8292</td>\n",
       "      <td>1</td>\n",
       "      <td>1</td>\n",
       "      <td>0</td>\n",
       "      <td>1</td>\n",
       "      <td>0</td>\n",
       "    </tr>\n",
       "    <tr>\n",
       "      <th>1</th>\n",
       "      <td>3</td>\n",
       "      <td>47.000000</td>\n",
       "      <td>7.0000</td>\n",
       "      <td>2</td>\n",
       "      <td>0</td>\n",
       "      <td>0</td>\n",
       "      <td>0</td>\n",
       "      <td>1</td>\n",
       "    </tr>\n",
       "    <tr>\n",
       "      <th>2</th>\n",
       "      <td>2</td>\n",
       "      <td>62.000000</td>\n",
       "      <td>9.6875</td>\n",
       "      <td>1</td>\n",
       "      <td>1</td>\n",
       "      <td>0</td>\n",
       "      <td>1</td>\n",
       "      <td>0</td>\n",
       "    </tr>\n",
       "    <tr>\n",
       "      <th>3</th>\n",
       "      <td>3</td>\n",
       "      <td>27.000000</td>\n",
       "      <td>8.6625</td>\n",
       "      <td>1</td>\n",
       "      <td>1</td>\n",
       "      <td>0</td>\n",
       "      <td>0</td>\n",
       "      <td>1</td>\n",
       "    </tr>\n",
       "    <tr>\n",
       "      <th>4</th>\n",
       "      <td>3</td>\n",
       "      <td>22.000000</td>\n",
       "      <td>12.2875</td>\n",
       "      <td>3</td>\n",
       "      <td>0</td>\n",
       "      <td>0</td>\n",
       "      <td>0</td>\n",
       "      <td>1</td>\n",
       "    </tr>\n",
       "    <tr>\n",
       "      <th>...</th>\n",
       "      <td>...</td>\n",
       "      <td>...</td>\n",
       "      <td>...</td>\n",
       "      <td>...</td>\n",
       "      <td>...</td>\n",
       "      <td>...</td>\n",
       "      <td>...</td>\n",
       "      <td>...</td>\n",
       "    </tr>\n",
       "    <tr>\n",
       "      <th>413</th>\n",
       "      <td>3</td>\n",
       "      <td>30.726645</td>\n",
       "      <td>8.0500</td>\n",
       "      <td>1</td>\n",
       "      <td>1</td>\n",
       "      <td>0</td>\n",
       "      <td>0</td>\n",
       "      <td>1</td>\n",
       "    </tr>\n",
       "    <tr>\n",
       "      <th>414</th>\n",
       "      <td>1</td>\n",
       "      <td>39.000000</td>\n",
       "      <td>108.9000</td>\n",
       "      <td>1</td>\n",
       "      <td>0</td>\n",
       "      <td>1</td>\n",
       "      <td>0</td>\n",
       "      <td>0</td>\n",
       "    </tr>\n",
       "    <tr>\n",
       "      <th>415</th>\n",
       "      <td>3</td>\n",
       "      <td>38.500000</td>\n",
       "      <td>7.2500</td>\n",
       "      <td>1</td>\n",
       "      <td>1</td>\n",
       "      <td>0</td>\n",
       "      <td>0</td>\n",
       "      <td>1</td>\n",
       "    </tr>\n",
       "    <tr>\n",
       "      <th>416</th>\n",
       "      <td>3</td>\n",
       "      <td>30.726645</td>\n",
       "      <td>8.0500</td>\n",
       "      <td>1</td>\n",
       "      <td>1</td>\n",
       "      <td>0</td>\n",
       "      <td>0</td>\n",
       "      <td>1</td>\n",
       "    </tr>\n",
       "    <tr>\n",
       "      <th>417</th>\n",
       "      <td>3</td>\n",
       "      <td>30.726645</td>\n",
       "      <td>22.3583</td>\n",
       "      <td>3</td>\n",
       "      <td>1</td>\n",
       "      <td>1</td>\n",
       "      <td>0</td>\n",
       "      <td>0</td>\n",
       "    </tr>\n",
       "  </tbody>\n",
       "</table>\n",
       "<p>418 rows × 8 columns</p>\n",
       "</div>"
      ],
      "text/plain": [
       "     Pclass        Age      Fare  family_group  Sex  Embarked_C  Embarked_Q  \\\n",
       "0         3  34.500000    7.8292             1    1           0           1   \n",
       "1         3  47.000000    7.0000             2    0           0           0   \n",
       "2         2  62.000000    9.6875             1    1           0           1   \n",
       "3         3  27.000000    8.6625             1    1           0           0   \n",
       "4         3  22.000000   12.2875             3    0           0           0   \n",
       "..      ...        ...       ...           ...  ...         ...         ...   \n",
       "413       3  30.726645    8.0500             1    1           0           0   \n",
       "414       1  39.000000  108.9000             1    0           1           0   \n",
       "415       3  38.500000    7.2500             1    1           0           0   \n",
       "416       3  30.726645    8.0500             1    1           0           0   \n",
       "417       3  30.726645   22.3583             3    1           1           0   \n",
       "\n",
       "     Embarked_S  \n",
       "0             0  \n",
       "1             1  \n",
       "2             0  \n",
       "3             1  \n",
       "4             1  \n",
       "..          ...  \n",
       "413           1  \n",
       "414           0  \n",
       "415           1  \n",
       "416           1  \n",
       "417           0  \n",
       "\n",
       "[418 rows x 8 columns]"
      ]
     },
     "execution_count": 54,
     "metadata": {},
     "output_type": "execute_result"
    }
   ],
   "source": [
    "X_test"
   ]
  },
  {
   "cell_type": "code",
   "execution_count": 55,
   "metadata": {
    "execution": {
     "iopub.execute_input": "2021-06-27T08:56:56.629635Z",
     "iopub.status.busy": "2021-06-27T08:56:56.628564Z",
     "iopub.status.idle": "2021-06-27T08:56:56.631995Z",
     "shell.execute_reply": "2021-06-27T08:56:56.631454Z",
     "shell.execute_reply.started": "2021-06-27T08:55:53.525060Z"
    },
    "papermill": {
     "duration": 0.072159,
     "end_time": "2021-06-27T08:56:56.632134",
     "exception": false,
     "start_time": "2021-06-27T08:56:56.559975",
     "status": "completed"
    },
    "tags": []
   },
   "outputs": [],
   "source": [
    "submission = pd.DataFrame({\n",
    "    \"PassengerId\": passenger_id,\n",
    "    \"Survived\": testPrediction\n",
    "})"
   ]
  },
  {
   "cell_type": "code",
   "execution_count": 56,
   "metadata": {
    "execution": {
     "iopub.execute_input": "2021-06-27T08:56:56.760662Z",
     "iopub.status.busy": "2021-06-27T08:56:56.759977Z",
     "iopub.status.idle": "2021-06-27T08:56:56.861317Z",
     "shell.execute_reply": "2021-06-27T08:56:56.860555Z",
     "shell.execute_reply.started": "2021-06-27T08:56:14.393419Z"
    },
    "papermill": {
     "duration": 0.16755,
     "end_time": "2021-06-27T08:56:56.861438",
     "exception": false,
     "start_time": "2021-06-27T08:56:56.693888",
     "status": "completed"
    },
    "tags": []
   },
   "outputs": [],
   "source": [
    "submission.to_csv('/kaggle/working/submission.csv', index=False)"
   ]
  },
  {
   "cell_type": "code",
   "execution_count": null,
   "metadata": {
    "papermill": {
     "duration": 0.061818,
     "end_time": "2021-06-27T08:56:56.985732",
     "exception": false,
     "start_time": "2021-06-27T08:56:56.923914",
     "status": "completed"
    },
    "tags": []
   },
   "outputs": [],
   "source": []
  }
 ],
 "metadata": {
  "kernelspec": {
   "display_name": "Python 3",
   "language": "python",
   "name": "python3"
  },
  "language_info": {
   "codemirror_mode": {
    "name": "ipython",
    "version": 3
   },
   "file_extension": ".py",
   "mimetype": "text/x-python",
   "name": "python",
   "nbconvert_exporter": "python",
   "pygments_lexer": "ipython3",
   "version": "3.7.6"
  },
  "papermill": {
   "duration": 16.387797,
   "end_time": "2021-06-27T08:56:57.154423",
   "environment_variables": {},
   "exception": null,
   "input_path": "__notebook__.ipynb",
   "output_path": "__notebook__.ipynb",
   "parameters": {},
   "start_time": "2021-06-27T08:56:40.766626",
   "version": "2.1.0"
  }
 },
 "nbformat": 4,
 "nbformat_minor": 4
}
