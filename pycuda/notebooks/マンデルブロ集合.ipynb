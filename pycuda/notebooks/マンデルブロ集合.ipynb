{
  "nbformat": 4,
  "nbformat_minor": 0,
  "metadata": {
    "colab": {
      "name": "マンデルブロ集合.ipynb",
      "provenance": [],
      "collapsed_sections": []
    },
    "kernelspec": {
      "name": "python3",
      "display_name": "Python 3"
    },
    "accelerator": "GPU"
  },
  "cells": [
    {
      "cell_type": "code",
      "metadata": {
        "id": "As5aPaiPAugp",
        "colab": {
          "base_uri": "https://localhost:8080/",
          "height": 493
        },
        "outputId": "69d96934-e2de-4699-ec58-d69a96e24191"
      },
      "source": [
        "!pip3 install pycuda"
      ],
      "execution_count": null,
      "outputs": [
        {
          "output_type": "stream",
          "text": [
            "Collecting pycuda\n",
            "\u001b[?25l  Downloading https://files.pythonhosted.org/packages/5e/3f/5658c38579b41866ba21ee1b5020b8225cec86fe717e4b1c5c972de0a33c/pycuda-2019.1.2.tar.gz (1.6MB)\n",
            "\u001b[K     |████████████████████████████████| 1.6MB 2.8MB/s \n",
            "\u001b[?25hCollecting pytools>=2011.2 (from pycuda)\n",
            "\u001b[?25l  Downloading https://files.pythonhosted.org/packages/00/96/00416762a3eda8876a17d007df4a946f46b2e4ee1057e0b9714926472ef8/pytools-2019.1.1.tar.gz (58kB)\n",
            "\u001b[K     |████████████████████████████████| 61kB 21.2MB/s \n",
            "\u001b[?25hRequirement already satisfied: decorator>=3.2.0 in /usr/local/lib/python3.6/dist-packages (from pycuda) (4.4.0)\n",
            "Collecting appdirs>=1.4.0 (from pycuda)\n",
            "  Downloading https://files.pythonhosted.org/packages/56/eb/810e700ed1349edde4cbdc1b2a21e28cdf115f9faf263f6bbf8447c1abf3/appdirs-1.4.3-py2.py3-none-any.whl\n",
            "Collecting mako (from pycuda)\n",
            "\u001b[?25l  Downloading https://files.pythonhosted.org/packages/b0/3c/8dcd6883d009f7cae0f3157fb53e9afb05a0d3d33b3db1268ec2e6f4a56b/Mako-1.1.0.tar.gz (463kB)\n",
            "\u001b[K     |████████████████████████████████| 471kB 41.3MB/s \n",
            "\u001b[?25hRequirement already satisfied: six>=1.8.0 in /usr/local/lib/python3.6/dist-packages (from pytools>=2011.2->pycuda) (1.12.0)\n",
            "Requirement already satisfied: numpy>=1.6.0 in /usr/local/lib/python3.6/dist-packages (from pytools>=2011.2->pycuda) (1.16.5)\n",
            "Requirement already satisfied: MarkupSafe>=0.9.2 in /usr/local/lib/python3.6/dist-packages (from mako->pycuda) (1.1.1)\n",
            "Building wheels for collected packages: pycuda, pytools, mako\n",
            "  Building wheel for pycuda (setup.py) ... \u001b[?25l\u001b[?25hdone\n",
            "  Created wheel for pycuda: filename=pycuda-2019.1.2-cp36-cp36m-linux_x86_64.whl size=4536213 sha256=39889e6c34386f5706e18df6b0db75f805c6662bffd12a245f7b655cf58de3ff\n",
            "  Stored in directory: /root/.cache/pip/wheels/a6/60/f0/b1c430c73d281ac3e46070480db50f7907364eb6f6d3188396\n",
            "  Building wheel for pytools (setup.py) ... \u001b[?25l\u001b[?25hdone\n",
            "  Created wheel for pytools: filename=pytools-2019.1.1-py2.py3-none-any.whl size=58424 sha256=742257943ab152e49daea8bf2264f2eefab7da042703cd19aad209a18ba3af9f\n",
            "  Stored in directory: /root/.cache/pip/wheels/83/df/0b/75ac4572aaa93e3eba6a58472635d0fda907f5f4cf884a3a0c\n",
            "  Building wheel for mako (setup.py) ... \u001b[?25l\u001b[?25hdone\n",
            "  Created wheel for mako: filename=Mako-1.1.0-cp36-none-any.whl size=75363 sha256=b1c2344ea685ad838a5eba91704e5bc366dee55f9cf752fd792d5e938acb6e13\n",
            "  Stored in directory: /root/.cache/pip/wheels/98/32/7b/a291926643fc1d1e02593e0d9e247c5a866a366b8343b7aa27\n",
            "Successfully built pycuda pytools mako\n",
            "Installing collected packages: appdirs, pytools, mako, pycuda\n",
            "Successfully installed appdirs-1.4.3 mako-1.1.0 pycuda-2019.1.2 pytools-2019.1.1\n"
          ],
          "name": "stdout"
        }
      ]
    },
    {
      "cell_type": "code",
      "metadata": {
        "id": "61CCSIZrA1EM"
      },
      "source": [
        "import math\n",
        "import numpy as np\n",
        "import pycuda.gpuarray as gpuarray\n",
        "from pycuda.compiler import SourceModule\n",
        "import pycuda.autoinit\n",
        "import seaborn as sns\n",
        "import matplotlib.pyplot as plt"
      ],
      "execution_count": null,
      "outputs": []
    },
    {
      "cell_type": "code",
      "metadata": {
        "id": "xC7QoljjHmlS"
      },
      "source": [
        "module = SourceModule(\"\"\"\n",
        "#include <pycuda-complex.hpp>\n",
        "__global__ void mandel_kernel(int nx, int ny, float *real_val, float *imag_val, float *res,\n",
        "int max_iter, float upper_bound){\n",
        "    int x = threadIdx.x + blockDim.x * blockIdx.x;\n",
        "    int y = threadIdx.y + blockDim.y * blockIdx.y;\n",
        "    int ij = nx * y + x;\n",
        "    if (x < nx && y < ny){\n",
        "        int diverge_flag = 0;\n",
        "        pycuda::complex<float> c(real_val[ij], imag_val[ij]);\n",
        "        pycuda::complex<float> z(0, 0);\n",
        "        for (int i = 0; i < max_iter; i++){\n",
        "            z = z * z + c;\n",
        "            if (abs(z) > upper_bound){\n",
        "                res[ij] = (float) i;\n",
        "                diverge_flag = 1;\n",
        "                break;\n",
        "            }\n",
        "        }\n",
        "        if (diverge_flag == 0){\n",
        "            res[ij] = (float) max_iter;\n",
        "        }\n",
        "    }\n",
        "}\n",
        "\"\"\")"
      ],
      "execution_count": null,
      "outputs": []
    },
    {
      "cell_type": "code",
      "metadata": {
        "id": "g2zln6TxJirH"
      },
      "source": [
        "mandelbrot = module.get_function(\"mandel_kernel\")"
      ],
      "execution_count": null,
      "outputs": []
    },
    {
      "cell_type": "code",
      "metadata": {
        "id": "zE5yo_LhJ6xr"
      },
      "source": [
        "nx = np.int32(500)\n",
        "ny = np.int32(1000)\n",
        "max_iter = np.int32(100)\n",
        "upper_bound = np.float32(2.0)"
      ],
      "execution_count": null,
      "outputs": []
    },
    {
      "cell_type": "code",
      "metadata": {
        "id": "6jZ3n-g4KM86"
      },
      "source": [
        "x = np.linspace(-2, 2, nx, dtype=np.float32)\n",
        "y = np.linspace(-2, 2, ny, dtype=np.float32)"
      ],
      "execution_count": null,
      "outputs": []
    },
    {
      "cell_type": "code",
      "metadata": {
        "id": "OjCYzp8FKU87"
      },
      "source": [
        "Y, X = np.meshgrid(y, x, indexing=\"ij\")"
      ],
      "execution_count": null,
      "outputs": []
    },
    {
      "cell_type": "code",
      "metadata": {
        "id": "6Fr73VVeKclC"
      },
      "source": [
        "X_gpu = gpuarray.to_gpu(X)\n",
        "Y_gpu = gpuarray.to_gpu(Y)"
      ],
      "execution_count": null,
      "outputs": []
    },
    {
      "cell_type": "code",
      "metadata": {
        "id": "1nJDYv5pKkAD"
      },
      "source": [
        "res_gpu = gpuarray.zeros([ny, nx], dtype=np.float32)"
      ],
      "execution_count": null,
      "outputs": []
    },
    {
      "cell_type": "code",
      "metadata": {
        "id": "TnfSsnfCKvBM"
      },
      "source": [
        "threads_per_block = (16, 16, 1)\n",
        "block_x = math.ceil(nx / threads_per_block[0])\n",
        "block_y = math.ceil(ny / threads_per_block[1])\n",
        "blocks_per_grid = (block_x, block_y, 1)"
      ],
      "execution_count": null,
      "outputs": []
    },
    {
      "cell_type": "code",
      "metadata": {
        "id": "5BeM4OVFLFpL"
      },
      "source": [
        "mandelbrot(nx, ny, X_gpu, Y_gpu, res_gpu, max_iter, upper_bound, block=threads_per_block, grid=blocks_per_grid)"
      ],
      "execution_count": null,
      "outputs": []
    },
    {
      "cell_type": "code",
      "metadata": {
        "id": "VXbcvZ6xLWSD"
      },
      "source": [
        "res = res_gpu.get()"
      ],
      "execution_count": null,
      "outputs": []
    },
    {
      "cell_type": "code",
      "metadata": {
        "id": "y-dgd66aLZsb",
        "colab": {
          "base_uri": "https://localhost:8080/",
          "height": 278
        },
        "outputId": "38278546-b6a3-48bb-98a5-47fd1baef2d2"
      },
      "source": [
        "sns.heatmap(res, cmap=\"RdBu_r\")\n",
        "plt.show()"
      ],
      "execution_count": null,
      "outputs": [
        {
          "output_type": "display_data",
          "data": {
            "image/png": "[encoded data removed]",
            "text/plain": [
              "<Figure size 432x288 with 2 Axes>"
            ]
          },
          "metadata": {
            "tags": []
          }
        }
      ]
    },
    {
      "cell_type": "code",
      "metadata": {
        "id": "kTqPE2lCLiWT"
      },
      "source": [
        ""
      ],
      "execution_count": null,
      "outputs": []
    }
  ]
}