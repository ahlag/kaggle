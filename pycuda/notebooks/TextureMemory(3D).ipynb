{
  "nbformat": 4,
  "nbformat_minor": 0,
  "metadata": {
    "colab": {
      "name": "TextureMemory(3D).ipynb",
      "provenance": [],
      "collapsed_sections": []
    },
    "kernelspec": {
      "name": "python3",
      "display_name": "Python 3"
    },
    "accelerator": "GPU"
  },
  "cells": [
    {
      "cell_type": "code",
      "metadata": {
        "id": "jZJITGgYuS_p",
        "colab": {
          "base_uri": "https://localhost:8080/",
          "height": 493
        },
        "outputId": "9553e4ff-7605-4f4d-80c7-adfddfc8e887"
      },
      "source": [
        "!pip3 install pycuda"
      ],
      "execution_count": null,
      "outputs": [
        {
          "output_type": "stream",
          "text": [
            "Collecting pycuda\n",
            "\u001b[?25l  Downloading https://files.pythonhosted.org/packages/5e/3f/5658c38579b41866ba21ee1b5020b8225cec86fe717e4b1c5c972de0a33c/pycuda-2019.1.2.tar.gz (1.6MB)\n",
            "\u001b[K     |████████████████████████████████| 1.6MB 5.1MB/s \n",
            "\u001b[?25hCollecting pytools>=2011.2 (from pycuda)\n",
            "\u001b[?25l  Downloading https://files.pythonhosted.org/packages/00/96/00416762a3eda8876a17d007df4a946f46b2e4ee1057e0b9714926472ef8/pytools-2019.1.1.tar.gz (58kB)\n",
            "\u001b[K     |████████████████████████████████| 61kB 20.8MB/s \n",
            "\u001b[?25hRequirement already satisfied: decorator>=3.2.0 in /usr/local/lib/python3.6/dist-packages (from pycuda) (4.4.0)\n",
            "Collecting appdirs>=1.4.0 (from pycuda)\n",
            "  Downloading https://files.pythonhosted.org/packages/56/eb/810e700ed1349edde4cbdc1b2a21e28cdf115f9faf263f6bbf8447c1abf3/appdirs-1.4.3-py2.py3-none-any.whl\n",
            "Collecting mako (from pycuda)\n",
            "\u001b[?25l  Downloading https://files.pythonhosted.org/packages/b0/3c/8dcd6883d009f7cae0f3157fb53e9afb05a0d3d33b3db1268ec2e6f4a56b/Mako-1.1.0.tar.gz (463kB)\n",
            "\u001b[K     |████████████████████████████████| 471kB 43.3MB/s \n",
            "\u001b[?25hRequirement already satisfied: six>=1.8.0 in /usr/local/lib/python3.6/dist-packages (from pytools>=2011.2->pycuda) (1.12.0)\n",
            "Requirement already satisfied: numpy>=1.6.0 in /usr/local/lib/python3.6/dist-packages (from pytools>=2011.2->pycuda) (1.16.5)\n",
            "Requirement already satisfied: MarkupSafe>=0.9.2 in /usr/local/lib/python3.6/dist-packages (from mako->pycuda) (1.1.1)\n",
            "Building wheels for collected packages: pycuda, pytools, mako\n",
            "  Building wheel for pycuda (setup.py) ... \u001b[?25l\u001b[?25hdone\n",
            "  Created wheel for pycuda: filename=pycuda-2019.1.2-cp36-cp36m-linux_x86_64.whl size=4536169 sha256=2adda0ff04b8b50a044c66ec231ac21fa4453e37e1f8d3b2da1c72780a90d654\n",
            "  Stored in directory: /root/.cache/pip/wheels/a6/60/f0/b1c430c73d281ac3e46070480db50f7907364eb6f6d3188396\n",
            "  Building wheel for pytools (setup.py) ... \u001b[?25l\u001b[?25hdone\n",
            "  Created wheel for pytools: filename=pytools-2019.1.1-py2.py3-none-any.whl size=58424 sha256=b15ee8836a38cfae617c0ce09b9ee95ab343ed038b7c049a143f4c3daa5cb077\n",
            "  Stored in directory: /root/.cache/pip/wheels/83/df/0b/75ac4572aaa93e3eba6a58472635d0fda907f5f4cf884a3a0c\n",
            "  Building wheel for mako (setup.py) ... \u001b[?25l\u001b[?25hdone\n",
            "  Created wheel for mako: filename=Mako-1.1.0-cp36-none-any.whl size=75363 sha256=e9ef874b61a73e399c62d44b924c962a9a065dfa3391239f171c8971256dab83\n",
            "  Stored in directory: /root/.cache/pip/wheels/98/32/7b/a291926643fc1d1e02593e0d9e247c5a866a366b8343b7aa27\n",
            "Successfully built pycuda pytools mako\n",
            "Installing collected packages: appdirs, pytools, mako, pycuda\n",
            "Successfully installed appdirs-1.4.3 mako-1.1.0 pycuda-2019.1.2 pytools-2019.1.1\n"
          ],
          "name": "stdout"
        }
      ]
    },
    {
      "cell_type": "code",
      "metadata": {
        "id": "cmvXWCitvln-"
      },
      "source": [
        "import math\n",
        "import numpy as np\n",
        "import pycuda.gpuarray as gpuarray\n",
        "from pycuda.compiler import SourceModule\n",
        "import cuda_utils as cu\n",
        "import pycuda.autoinit"
      ],
      "execution_count": null,
      "outputs": []
    },
    {
      "cell_type": "code",
      "metadata": {
        "id": "ogSyl7oVw003"
      },
      "source": [
        "module = SourceModule(\"\"\"\n",
        "texture<int, 3, cudaReadModeElementType> tex_3d;\n",
        "__global__ void read_texture_3d(int nx, int ny, int nz, int *res){\n",
        "    int x = threadIdx.x + blockDim.x * blockIdx.x;\n",
        "    int y = threadIdx.y + blockDim.y * blockIdx.y;\n",
        "    int z = threadIdx.z + blockDim.z * blockIdx.z;\n",
        "    int ijk = nx * ny * z + nx * y + x;\n",
        "    if (x < nx && y < ny && z < nz){\n",
        "        res[ijk] = tex3D(tex_3d, x, y, z);\n",
        "    }\n",
        "}\n",
        "\"\"\")"
      ],
      "execution_count": null,
      "outputs": []
    },
    {
      "cell_type": "code",
      "metadata": {
        "id": "Ue3TZplaxm7W"
      },
      "source": [
        "read_tex_3d = module.get_function(\"read_texture_3d\")"
      ],
      "execution_count": null,
      "outputs": []
    },
    {
      "cell_type": "code",
      "metadata": {
        "id": "RfPXzHfLxtDc"
      },
      "source": [
        "num_components = np.int32(24)"
      ],
      "execution_count": null,
      "outputs": []
    },
    {
      "cell_type": "code",
      "metadata": {
        "id": "-zDF29Mlx60m"
      },
      "source": [
        "arr = np.arange(num_components, dtype=np.int32)"
      ],
      "execution_count": null,
      "outputs": []
    },
    {
      "cell_type": "code",
      "metadata": {
        "id": "8RDmnB9xx_VX"
      },
      "source": [
        "np.random.shuffle(arr)"
      ],
      "execution_count": null,
      "outputs": []
    },
    {
      "cell_type": "code",
      "metadata": {
        "id": "KKro1DFlyBTV"
      },
      "source": [
        "num_x, num_y, num_z = np.int32(2), np.int32(3), np.int32(4)"
      ],
      "execution_count": null,
      "outputs": []
    },
    {
      "cell_type": "code",
      "metadata": {
        "id": "HWRIZTdTyN9M"
      },
      "source": [
        "arr = arr.reshape(num_z, num_y, num_x)"
      ],
      "execution_count": null,
      "outputs": []
    },
    {
      "cell_type": "code",
      "metadata": {
        "id": "eJCAF4A8yS2G",
        "colab": {
          "base_uri": "https://localhost:8080/",
          "height": 272
        },
        "outputId": "ca2756cc-ef2d-4dc0-cabf-8c2807c20c62"
      },
      "source": [
        "print(arr)"
      ],
      "execution_count": null,
      "outputs": [
        {
          "output_type": "stream",
          "text": [
            "[[[ 5 20]\n",
            "  [22 16]\n",
            "  [15  4]]\n",
            "\n",
            " [[ 8  3]\n",
            "  [12  7]\n",
            "  [13 17]]\n",
            "\n",
            " [[ 6  2]\n",
            "  [ 1 21]\n",
            "  [18 14]]\n",
            "\n",
            " [[19 23]\n",
            "  [11  0]\n",
            "  [ 9 10]]]\n"
          ],
          "name": "stdout"
        }
      ]
    },
    {
      "cell_type": "code",
      "metadata": {
        "id": "oBUcwFEYyT01"
      },
      "source": [
        "arr_gpu = gpuarray.to_gpu(arr)\n",
        "res_gpu = gpuarray.zeros([num_z, num_y, num_x], dtype=np.int32)"
      ],
      "execution_count": null,
      "outputs": []
    },
    {
      "cell_type": "code",
      "metadata": {
        "id": "NRtfhUiDyeQl"
      },
      "source": [
        "tex_3d = module.get_texref(\"tex_3d\")"
      ],
      "execution_count": null,
      "outputs": []
    },
    {
      "cell_type": "code",
      "metadata": {
        "id": "37ec-aCQyjY4"
      },
      "source": [
        "cu.bind_array_to_texture3d(arr, tex_3d)"
      ],
      "execution_count": null,
      "outputs": []
    },
    {
      "cell_type": "code",
      "metadata": {
        "id": "auFtdDQcyp3s"
      },
      "source": [
        "threads_per_block = (6, 6, 6)\n",
        "block_x = math.ceil(num_x / threads_per_block[0])\n",
        "block_y = math.ceil(num_y / threads_per_block[1])\n",
        "block_z = math.ceil(num_z / threads_per_block[2])\n",
        "blocks_per_grid = (block_x, block_y, block_z)"
      ],
      "execution_count": null,
      "outputs": []
    },
    {
      "cell_type": "code",
      "metadata": {
        "id": "Hm_Z0Ul3y6yI"
      },
      "source": [
        "read_tex_3d(num_x, num_y, num_z, res_gpu, block=threads_per_block, grid=blocks_per_grid, texrefs=[tex_3d])"
      ],
      "execution_count": null,
      "outputs": []
    },
    {
      "cell_type": "code",
      "metadata": {
        "id": "2XZiGuUBzNv-",
        "colab": {
          "base_uri": "https://localhost:8080/",
          "height": 272
        },
        "outputId": "56c4a5e2-3c1d-4d00-c335-911859cb0703"
      },
      "source": [
        "res_gpu.get()"
      ],
      "execution_count": null,
      "outputs": [
        {
          "output_type": "execute_result",
          "data": {
            "text/plain": [
              "array([[[ 5, 20],\n",
              "        [22, 16],\n",
              "        [15,  4]],\n",
              "\n",
              "       [[ 8,  3],\n",
              "        [12,  7],\n",
              "        [13, 17]],\n",
              "\n",
              "       [[ 6,  2],\n",
              "        [ 1, 21],\n",
              "        [18, 14]],\n",
              "\n",
              "       [[19, 23],\n",
              "        [11,  0],\n",
              "        [ 9, 10]]], dtype=int32)"
            ]
          },
          "metadata": {
            "tags": []
          },
          "execution_count": 17
        }
      ]
    },
    {
      "cell_type": "code",
      "metadata": {
        "id": "SBiV69BIzP1I"
      },
      "source": [
        ""
      ],
      "execution_count": null,
      "outputs": []
    }
  ]
}