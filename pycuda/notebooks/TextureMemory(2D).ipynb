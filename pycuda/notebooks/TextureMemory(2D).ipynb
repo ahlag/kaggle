{
  "nbformat": 4,
  "nbformat_minor": 0,
  "metadata": {
    "colab": {
      "name": "TextureMemory(2D).ipynb",
      "provenance": [],
      "collapsed_sections": []
    },
    "kernelspec": {
      "name": "python3",
      "display_name": "Python 3"
    },
    "accelerator": "GPU"
  },
  "cells": [
    {
      "cell_type": "code",
      "metadata": {
        "id": "FUmB9ZqtRy_h",
        "colab": {
          "base_uri": "https://localhost:8080/",
          "height": 493
        },
        "outputId": "217afd3b-9d8c-4b8d-fddc-ce774ad57daf"
      },
      "source": [
        "!pip3 install pycuda"
      ],
      "execution_count": null,
      "outputs": [
        {
          "output_type": "stream",
          "text": [
            "Collecting pycuda\n",
            "\u001b[?25l  Downloading https://files.pythonhosted.org/packages/5e/3f/5658c38579b41866ba21ee1b5020b8225cec86fe717e4b1c5c972de0a33c/pycuda-2019.1.2.tar.gz (1.6MB)\n",
            "\u001b[K     |████████████████████████████████| 1.6MB 2.8MB/s \n",
            "\u001b[?25hCollecting pytools>=2011.2 (from pycuda)\n",
            "\u001b[?25l  Downloading https://files.pythonhosted.org/packages/00/96/00416762a3eda8876a17d007df4a946f46b2e4ee1057e0b9714926472ef8/pytools-2019.1.1.tar.gz (58kB)\n",
            "\u001b[K     |████████████████████████████████| 61kB 23.1MB/s \n",
            "\u001b[?25hRequirement already satisfied: decorator>=3.2.0 in /usr/local/lib/python3.6/dist-packages (from pycuda) (4.4.0)\n",
            "Collecting appdirs>=1.4.0 (from pycuda)\n",
            "  Downloading https://files.pythonhosted.org/packages/56/eb/810e700ed1349edde4cbdc1b2a21e28cdf115f9faf263f6bbf8447c1abf3/appdirs-1.4.3-py2.py3-none-any.whl\n",
            "Collecting mako (from pycuda)\n",
            "\u001b[?25l  Downloading https://files.pythonhosted.org/packages/b0/3c/8dcd6883d009f7cae0f3157fb53e9afb05a0d3d33b3db1268ec2e6f4a56b/Mako-1.1.0.tar.gz (463kB)\n",
            "\u001b[K     |████████████████████████████████| 471kB 41.7MB/s \n",
            "\u001b[?25hRequirement already satisfied: six>=1.8.0 in /usr/local/lib/python3.6/dist-packages (from pytools>=2011.2->pycuda) (1.12.0)\n",
            "Requirement already satisfied: numpy>=1.6.0 in /usr/local/lib/python3.6/dist-packages (from pytools>=2011.2->pycuda) (1.16.5)\n",
            "Requirement already satisfied: MarkupSafe>=0.9.2 in /usr/local/lib/python3.6/dist-packages (from mako->pycuda) (1.1.1)\n",
            "Building wheels for collected packages: pycuda, pytools, mako\n",
            "  Building wheel for pycuda (setup.py) ... \u001b[?25l\u001b[?25hdone\n",
            "  Created wheel for pycuda: filename=pycuda-2019.1.2-cp36-cp36m-linux_x86_64.whl size=4536331 sha256=640a60c1d38a898c3dc2650118a3a991f3153b721dc196a56c559c34e12065f9\n",
            "  Stored in directory: /root/.cache/pip/wheels/a6/60/f0/b1c430c73d281ac3e46070480db50f7907364eb6f6d3188396\n",
            "  Building wheel for pytools (setup.py) ... \u001b[?25l\u001b[?25hdone\n",
            "  Created wheel for pytools: filename=pytools-2019.1.1-py2.py3-none-any.whl size=58424 sha256=c48f5b9e915df2b6297c8e2869351c6097e8193f8df431ac401582d5416d4360\n",
            "  Stored in directory: /root/.cache/pip/wheels/83/df/0b/75ac4572aaa93e3eba6a58472635d0fda907f5f4cf884a3a0c\n",
            "  Building wheel for mako (setup.py) ... \u001b[?25l\u001b[?25hdone\n",
            "  Created wheel for mako: filename=Mako-1.1.0-cp36-none-any.whl size=75363 sha256=8c87d6f1e361799c7990ce48edbf8254484c6d2ef40c197d04221c0f8edf0b34\n",
            "  Stored in directory: /root/.cache/pip/wheels/98/32/7b/a291926643fc1d1e02593e0d9e247c5a866a366b8343b7aa27\n",
            "Successfully built pycuda pytools mako\n",
            "Installing collected packages: appdirs, pytools, mako, pycuda\n",
            "Successfully installed appdirs-1.4.3 mako-1.1.0 pycuda-2019.1.2 pytools-2019.1.1\n"
          ],
          "name": "stdout"
        }
      ]
    },
    {
      "cell_type": "code",
      "metadata": {
        "id": "Kd_-9NeGR4Ax"
      },
      "source": [
        "import math\n",
        "import numpy as np\n",
        "import pycuda.gpuarray as gpuarray\n",
        "from pycuda.compiler import SourceModule\n",
        "import pycuda.driver as drv\n",
        "import pycuda.autoinit"
      ],
      "execution_count": null,
      "outputs": []
    },
    {
      "cell_type": "code",
      "metadata": {
        "id": "ljYX-zDnS_Ew"
      },
      "source": [
        "module = SourceModule(\"\"\"\n",
        "texture<int, 2, cudaReadModeElementType> tex_2d;\n",
        "__global__ void read_texture_2d(int nx, int ny, int *res){\n",
        "    int x = threadIdx.x + blockDim.x * blockIdx.x;\n",
        "    int y = threadIdx.y + blockDim.y * blockIdx.y;\n",
        "    int ij = nx * y + x;\n",
        "    if (x < nx && y < ny){\n",
        "        res[ij] = tex2D(tex_2d, x, y);\n",
        "    }\n",
        "}\n",
        "\"\"\")"
      ],
      "execution_count": null,
      "outputs": []
    },
    {
      "cell_type": "code",
      "metadata": {
        "id": "C3qqlCyjTt44"
      },
      "source": [
        "read_tex_2d = module.get_function(\"read_texture_2d\")"
      ],
      "execution_count": null,
      "outputs": []
    },
    {
      "cell_type": "code",
      "metadata": {
        "id": "RcRQJyNFT2MY"
      },
      "source": [
        "num_components = np.int32(20)\n",
        "arr = np.arange(num_components, dtype=np.int32)"
      ],
      "execution_count": null,
      "outputs": []
    },
    {
      "cell_type": "code",
      "metadata": {
        "id": "ukjmaVoWUAdQ"
      },
      "source": [
        "np.random.shuffle(arr)"
      ],
      "execution_count": null,
      "outputs": []
    },
    {
      "cell_type": "code",
      "metadata": {
        "id": "wZMMbGRSUEBn"
      },
      "source": [
        "num_x, num_y = np.int32(5), np.int32(4)\n",
        "arr = arr.reshape(num_y, num_x)"
      ],
      "execution_count": null,
      "outputs": []
    },
    {
      "cell_type": "code",
      "metadata": {
        "id": "igrcZFoZULzh",
        "colab": {
          "base_uri": "https://localhost:8080/",
          "height": 85
        },
        "outputId": "5335de64-61e0-4792-e8a5-2a07fca0fa0a"
      },
      "source": [
        "arr"
      ],
      "execution_count": null,
      "outputs": [
        {
          "output_type": "execute_result",
          "data": {
            "text/plain": [
              "array([[ 2,  4, 16,  3, 11],\n",
              "       [ 6,  1, 18, 17, 14],\n",
              "       [ 8,  0,  5, 19, 12],\n",
              "       [ 7,  9, 13, 15, 10]], dtype=int32)"
            ]
          },
          "metadata": {
            "tags": []
          },
          "execution_count": 8
        }
      ]
    },
    {
      "cell_type": "code",
      "metadata": {
        "id": "5xj5nx37UM7x"
      },
      "source": [
        "arr_gpu = gpuarray.to_gpu(arr)\n",
        "res_gpu = gpuarray.zeros([num_y, num_x], dtype=np.int32)"
      ],
      "execution_count": null,
      "outputs": []
    },
    {
      "cell_type": "code",
      "metadata": {
        "id": "xOqniRpAUX8Z"
      },
      "source": [
        "tex_2d = module.get_texref(\"tex_2d\")"
      ],
      "execution_count": null,
      "outputs": []
    },
    {
      "cell_type": "code",
      "metadata": {
        "id": "BPzhlpnWUeGI"
      },
      "source": [
        "drv.matrix_to_texref(arr, tex_2d, order=\"C\")"
      ],
      "execution_count": null,
      "outputs": []
    },
    {
      "cell_type": "code",
      "metadata": {
        "id": "rZ9sKoNgUrFo"
      },
      "source": [
        "threads_per_block = (16, 16, 1)\n",
        "block_x = math.ceil(num_x / threads_per_block[0])\n",
        "block_y = math.ceil(num_y / threads_per_block[1])\n",
        "blocks_per_grid = (block_x, block_y, 1)"
      ],
      "execution_count": null,
      "outputs": []
    },
    {
      "cell_type": "code",
      "metadata": {
        "id": "o9SW4umTU76Y"
      },
      "source": [
        "read_tex_2d(num_x, num_y, res_gpu, block=threads_per_block, grid=blocks_per_grid, texrefs=[tex_2d])"
      ],
      "execution_count": null,
      "outputs": []
    },
    {
      "cell_type": "code",
      "metadata": {
        "id": "rh7-9CpQVIpI",
        "colab": {
          "base_uri": "https://localhost:8080/",
          "height": 85
        },
        "outputId": "6fd4b0db-e147-4c3f-b04a-cddf83a75d37"
      },
      "source": [
        "res_gpu.get()"
      ],
      "execution_count": null,
      "outputs": [
        {
          "output_type": "execute_result",
          "data": {
            "text/plain": [
              "array([[ 2,  4, 16,  3, 11],\n",
              "       [ 6,  1, 18, 17, 14],\n",
              "       [ 8,  0,  5, 19, 12],\n",
              "       [ 7,  9, 13, 15, 10]], dtype=int32)"
            ]
          },
          "metadata": {
            "tags": []
          },
          "execution_count": 14
        }
      ]
    },
    {
      "cell_type": "code",
      "metadata": {
        "id": "IOkOTAMjVLHo"
      },
      "source": [
        ""
      ],
      "execution_count": null,
      "outputs": []
    }
  ]
}