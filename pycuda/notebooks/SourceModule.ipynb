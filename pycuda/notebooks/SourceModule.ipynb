{
  "nbformat": 4,
  "nbformat_minor": 0,
  "metadata": {
    "colab": {
      "name": "SourceModule.ipynb",
      "provenance": []
    },
    "kernelspec": {
      "name": "python3",
      "display_name": "Python 3"
    }
  },
  "cells": [
    {
      "cell_type": "code",
      "metadata": {
        "id": "rZBG6SKMW2BU"
      },
      "source": [
        "!pip3 install pycuda"
      ],
      "execution_count": null,
      "outputs": []
    },
    {
      "cell_type": "code",
      "metadata": {
        "id": "XqCfNhM4W6kA"
      },
      "source": [
        "import math\n",
        "import numpy as np\n",
        "import pycuda.gpuarray as gpuarray\n",
        "from pycuda.compiler import SourceModule\n",
        "import pycuda.autoinit"
      ],
      "execution_count": null,
      "outputs": []
    },
    {
      "cell_type": "code",
      "metadata": {
        "id": "ht0FEpzPXJjB"
      },
      "source": [
        "module = SourceModule(\"\"\"\n",
        "__global__ void plus_one_kernel(int num_comp, int *y, int *x){\n",
        "int i = threadIdx.x + blockDim.x * blockIdx.x;\n",
        "if (i < num_comp){\n",
        "    y[i] = x[i] + 1;\n",
        "}\n",
        "}\n",
        "\"\"\")"
      ],
      "execution_count": null,
      "outputs": []
    },
    {
      "cell_type": "code",
      "metadata": {
        "id": "uBXJvqzHXJpF"
      },
      "source": [
        "plus_one_kernel = module.get_function(\"plus_one_kernel\")"
      ],
      "execution_count": null,
      "outputs": []
    },
    {
      "cell_type": "code",
      "metadata": {
        "id": "3AeLKTpIXtpw"
      },
      "source": [
        "num_components = np.int32(10)\n",
        "x = np.arange(num_components, dtype=np.int32)"
      ],
      "execution_count": null,
      "outputs": []
    },
    {
      "cell_type": "code",
      "metadata": {
        "id": "vSuIM3eLXz6u"
      },
      "source": [
        "x_gpu = gpuarray.to_gpu(x)\n",
        "y_gpu = gpuarray.zeros(num_components, dtype=np.int32)"
      ],
      "execution_count": null,
      "outputs": []
    },
    {
      "cell_type": "code",
      "metadata": {
        "id": "ewdpuFXrXz-g"
      },
      "source": [
        "threads_per_block = (256, 1, 1)\n",
        "blocks_per_grid = (math.ceil(num_components / threads_per_block[1]), 1, 1)"
      ],
      "execution_count": null,
      "outputs": []
    },
    {
      "cell_type": "code",
      "metadata": {
        "id": "cYBPfP8AYOPf"
      },
      "source": [
        "plus_one_kernel(num_components, y_gpu, x_gpu, block=threads_per_block, grid=blocks_per_grid)"
      ],
      "execution_count": null,
      "outputs": []
    },
    {
      "cell_type": "code",
      "metadata": {
        "id": "FV1MtBdyYYmb"
      },
      "source": [
        "y_gpu.get()"
      ],
      "execution_count": null,
      "outputs": []
    },
    {
      "cell_type": "code",
      "metadata": {
        "id": "QmAo2aRfYaeD"
      },
      "source": [
        "x"
      ],
      "execution_count": null,
      "outputs": []
    }
  ]
}